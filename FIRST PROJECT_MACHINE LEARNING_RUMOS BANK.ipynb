{
 "cells": [
  {
   "cell_type": "markdown",
   "metadata": {
    "colab_type": "text",
    "id": "5kCJU90teZS2"
   },
   "source": [
    "# Final Project - The Awesome Bank Marketing Campaign\n",
    "\n",
    "\n",
    "After your success in the first project at The Awesome Bank, an even more exciting new project appears!\n",
    "\n",
    "The marketing team wants to launch a new campaign aimed at convincing customers to open term deposits.\n",
    "\n",
    "Until now, the strategy was to call as many people as possible, indiscriminately, and try to sell them the product. However, this approach, in addition to spending more resources because it involves having several people calling all customers, is also uncomfortable for some customers who do not like to be disturbed by this type of call. After the calculations, it was concluded that:\n",
    "\n",
    "    - For each customer identified as a good candidate, and is the target of the campaign but does not adhere to the term deposit, the bank has a cost of 500 euros.\n",
    "      - For each customer who is identified as a candidate, and as such is not the target of the campaign but was actually a good candidate and would join, the bank has a cost of 2000 euros.\n",
    "    \n",
    "Based on this information, can you help the marketing team by creating a model that selects the best candidates to be targeted by the campaign, in order to reduce costs?\n"
   ]
  },
  {
   "cell_type": "markdown",
   "metadata": {
    "colab_type": "text",
    "id": "ZI8bRkaueZS3"
   },
   "source": [
    "**The dataset contains information about all customers who were targeted by the campaign:**\n",
    "\n",
    "    1 - age \n",
    "    2 - job : type of job \n",
    "    3 - marital : marital status\n",
    "    4 - education\n",
    "    5 - default: has credit in default? \n",
    "    6 - housing: has housing loan? \n",
    "    7 - loan: has personal loan? \n",
    "    8 - pdays: number of days that passed by after the client was last contacted from a previous campaign \n",
    "    9 - previous: number of contacts performed before this campaign and for this client \n",
    "    10 - poutcome: outcome of the previous marketing campaign \n",
    "    11 - emp.var.rate: employment variation rate - quarterly indicator \n",
    "    12 - cons.price.idx: consumer price index - monthly indicator\n",
    "    13 - cons.conf.idx: consumer confidence index - monthly indicator \n",
    "    14 - euribor3m: euribor 3 month rate - daily indicator \n",
    "    15 - nr.employed: number of employees - quarterly indicator \n",
    "\n",
    "**Output:**\n",
    "    \n",
    "    y: has the client subscribed a term deposit? \n",
    "    \n",
    "   "
   ]
  },
  {
   "cell_type": "markdown",
   "metadata": {
    "colab_type": "text",
    "id": "EyHJTAqYeZS4"
   },
   "source": [
    "#### Questions:\n",
    "\n",
    "     1. How many features are available? How many customers?\n",
    "     2. How many customers do you have in the dataset who actually subscribed to the term deposit? And how many didn't?\n",
    "     3. What are the most relevant features to decide whether a customer is more likely to adhere to term deposit?\n",
    "     4. Which algorithm led to the best results?\n",
    "     5. Which evaluation metrics did you use to compare the performance of the various models? Why?\n",
    "     6. What is the cost that the bank has without any model?\n",
    "     7. What cost does the bank have with your model?\n",
    "    \n",
    "    \n",
    "    "
   ]
  },
  {
   "cell_type": "code",
   "execution_count": 1,
   "metadata": {
    "colab": {},
    "colab_type": "code",
    "id": "jNLkrQajeZS6"
   },
   "outputs": [],
   "source": [
    "import pandas as pd\n",
    "import matplotlib.pyplot as plt\n",
    "import seaborn as sns\n",
    "import ast\n",
    "\n",
    "import scipy.stats as stats\n",
    "from scipy.stats import pearsonr, spearmanr\n",
    "\n",
    "from sklearn.model_selection import train_test_split\n",
    "from sklearn.preprocessing import KBinsDiscretizer\n",
    "from sklearn.preprocessing import OrdinalEncoder\n",
    "from sklearn.preprocessing import OneHotEncoder\n",
    "from sklearn.impute import SimpleImputer\n",
    "from sklearn.feature_selection import VarianceThreshold\n",
    "from sklearn.svm import SVC\n",
    "from sklearn.preprocessing import MinMaxScaler\n",
    "from sklearn.metrics import  precision_recall_curve, roc_auc_score, confusion_matrix, accuracy_score, recall_score, precision_score, f1_score,auc, roc_curve\n",
    "from sklearn.model_selection import GridSearchCV\n",
    "from sklearn import tree\n",
    "from sklearn.linear_model import Perceptron\n",
    "from sklearn.neural_network import MLPClassifier\n",
    "from sklearn.ensemble import RandomForestClassifier\n",
    "from sklearn.linear_model import LogisticRegression\n",
    "\n",
    "import category_encoders\n",
    "from category_encoders import OneHotEncoder as OHE\n",
    "from category_encoders import BinaryEncoder\n",
    "\n",
    "import numpy as np\n",
    "\n",
    "\n",
    "\n",
    "pd.options.mode.chained_assignment = None\n",
    "\n",
    "seed = 42"
   ]
  },
  {
   "cell_type": "code",
   "execution_count": 2,
   "metadata": {
    "colab": {},
    "colab_type": "code",
    "id": "n8lubR7ReZS-"
   },
   "outputs": [],
   "source": [
    "df = pd.read_csv('data/bank_marketing_campaign.csv')"
   ]
  },
  {
   "cell_type": "code",
   "execution_count": 3,
   "metadata": {},
   "outputs": [
    {
     "data": {
      "text/html": [
       "<div>\n",
       "<style scoped>\n",
       "    .dataframe tbody tr th:only-of-type {\n",
       "        vertical-align: middle;\n",
       "    }\n",
       "\n",
       "    .dataframe tbody tr th {\n",
       "        vertical-align: top;\n",
       "    }\n",
       "\n",
       "    .dataframe thead th {\n",
       "        text-align: right;\n",
       "    }\n",
       "</style>\n",
       "<table border=\"1\" class=\"dataframe\">\n",
       "  <thead>\n",
       "    <tr style=\"text-align: right;\">\n",
       "      <th></th>\n",
       "      <th>age</th>\n",
       "      <th>job</th>\n",
       "      <th>marital</th>\n",
       "      <th>education</th>\n",
       "      <th>default</th>\n",
       "      <th>housing</th>\n",
       "      <th>loan</th>\n",
       "      <th>pdays</th>\n",
       "      <th>previous</th>\n",
       "      <th>poutcome</th>\n",
       "      <th>emp.var.rate</th>\n",
       "      <th>cons.price.idx</th>\n",
       "      <th>cons.conf.idx</th>\n",
       "      <th>euribor3m</th>\n",
       "      <th>nr.employed</th>\n",
       "      <th>y</th>\n",
       "    </tr>\n",
       "  </thead>\n",
       "  <tbody>\n",
       "    <tr>\n",
       "      <th>0</th>\n",
       "      <td>56</td>\n",
       "      <td>housemaid</td>\n",
       "      <td>married</td>\n",
       "      <td>basic.4y</td>\n",
       "      <td>no</td>\n",
       "      <td>no</td>\n",
       "      <td>no</td>\n",
       "      <td>999</td>\n",
       "      <td>0</td>\n",
       "      <td>nonexistent</td>\n",
       "      <td>1.1</td>\n",
       "      <td>93.994</td>\n",
       "      <td>-36.4</td>\n",
       "      <td>4.857</td>\n",
       "      <td>5191.0</td>\n",
       "      <td>no</td>\n",
       "    </tr>\n",
       "    <tr>\n",
       "      <th>1</th>\n",
       "      <td>57</td>\n",
       "      <td>services</td>\n",
       "      <td>married</td>\n",
       "      <td>high.school</td>\n",
       "      <td>unknown</td>\n",
       "      <td>no</td>\n",
       "      <td>no</td>\n",
       "      <td>999</td>\n",
       "      <td>0</td>\n",
       "      <td>nonexistent</td>\n",
       "      <td>1.1</td>\n",
       "      <td>93.994</td>\n",
       "      <td>-36.4</td>\n",
       "      <td>4.857</td>\n",
       "      <td>5191.0</td>\n",
       "      <td>no</td>\n",
       "    </tr>\n",
       "    <tr>\n",
       "      <th>2</th>\n",
       "      <td>37</td>\n",
       "      <td>services</td>\n",
       "      <td>married</td>\n",
       "      <td>high.school</td>\n",
       "      <td>no</td>\n",
       "      <td>yes</td>\n",
       "      <td>no</td>\n",
       "      <td>999</td>\n",
       "      <td>0</td>\n",
       "      <td>nonexistent</td>\n",
       "      <td>1.1</td>\n",
       "      <td>93.994</td>\n",
       "      <td>-36.4</td>\n",
       "      <td>4.857</td>\n",
       "      <td>5191.0</td>\n",
       "      <td>no</td>\n",
       "    </tr>\n",
       "    <tr>\n",
       "      <th>3</th>\n",
       "      <td>40</td>\n",
       "      <td>admin.</td>\n",
       "      <td>married</td>\n",
       "      <td>basic.6y</td>\n",
       "      <td>no</td>\n",
       "      <td>no</td>\n",
       "      <td>no</td>\n",
       "      <td>999</td>\n",
       "      <td>0</td>\n",
       "      <td>nonexistent</td>\n",
       "      <td>1.1</td>\n",
       "      <td>93.994</td>\n",
       "      <td>-36.4</td>\n",
       "      <td>4.857</td>\n",
       "      <td>5191.0</td>\n",
       "      <td>no</td>\n",
       "    </tr>\n",
       "    <tr>\n",
       "      <th>4</th>\n",
       "      <td>56</td>\n",
       "      <td>services</td>\n",
       "      <td>married</td>\n",
       "      <td>high.school</td>\n",
       "      <td>no</td>\n",
       "      <td>no</td>\n",
       "      <td>yes</td>\n",
       "      <td>999</td>\n",
       "      <td>0</td>\n",
       "      <td>nonexistent</td>\n",
       "      <td>1.1</td>\n",
       "      <td>93.994</td>\n",
       "      <td>-36.4</td>\n",
       "      <td>4.857</td>\n",
       "      <td>5191.0</td>\n",
       "      <td>no</td>\n",
       "    </tr>\n",
       "    <tr>\n",
       "      <th>...</th>\n",
       "      <td>...</td>\n",
       "      <td>...</td>\n",
       "      <td>...</td>\n",
       "      <td>...</td>\n",
       "      <td>...</td>\n",
       "      <td>...</td>\n",
       "      <td>...</td>\n",
       "      <td>...</td>\n",
       "      <td>...</td>\n",
       "      <td>...</td>\n",
       "      <td>...</td>\n",
       "      <td>...</td>\n",
       "      <td>...</td>\n",
       "      <td>...</td>\n",
       "      <td>...</td>\n",
       "      <td>...</td>\n",
       "    </tr>\n",
       "    <tr>\n",
       "      <th>41183</th>\n",
       "      <td>73</td>\n",
       "      <td>retired</td>\n",
       "      <td>married</td>\n",
       "      <td>professional.course</td>\n",
       "      <td>no</td>\n",
       "      <td>yes</td>\n",
       "      <td>no</td>\n",
       "      <td>999</td>\n",
       "      <td>0</td>\n",
       "      <td>nonexistent</td>\n",
       "      <td>-1.1</td>\n",
       "      <td>94.767</td>\n",
       "      <td>-50.8</td>\n",
       "      <td>1.028</td>\n",
       "      <td>4963.6</td>\n",
       "      <td>yes</td>\n",
       "    </tr>\n",
       "    <tr>\n",
       "      <th>41184</th>\n",
       "      <td>46</td>\n",
       "      <td>blue-collar</td>\n",
       "      <td>married</td>\n",
       "      <td>professional.course</td>\n",
       "      <td>no</td>\n",
       "      <td>no</td>\n",
       "      <td>no</td>\n",
       "      <td>999</td>\n",
       "      <td>0</td>\n",
       "      <td>nonexistent</td>\n",
       "      <td>-1.1</td>\n",
       "      <td>94.767</td>\n",
       "      <td>-50.8</td>\n",
       "      <td>1.028</td>\n",
       "      <td>4963.6</td>\n",
       "      <td>no</td>\n",
       "    </tr>\n",
       "    <tr>\n",
       "      <th>41185</th>\n",
       "      <td>56</td>\n",
       "      <td>retired</td>\n",
       "      <td>married</td>\n",
       "      <td>university.degree</td>\n",
       "      <td>no</td>\n",
       "      <td>yes</td>\n",
       "      <td>no</td>\n",
       "      <td>999</td>\n",
       "      <td>0</td>\n",
       "      <td>nonexistent</td>\n",
       "      <td>-1.1</td>\n",
       "      <td>94.767</td>\n",
       "      <td>-50.8</td>\n",
       "      <td>1.028</td>\n",
       "      <td>4963.6</td>\n",
       "      <td>no</td>\n",
       "    </tr>\n",
       "    <tr>\n",
       "      <th>41186</th>\n",
       "      <td>44</td>\n",
       "      <td>technician</td>\n",
       "      <td>married</td>\n",
       "      <td>professional.course</td>\n",
       "      <td>no</td>\n",
       "      <td>no</td>\n",
       "      <td>no</td>\n",
       "      <td>999</td>\n",
       "      <td>0</td>\n",
       "      <td>nonexistent</td>\n",
       "      <td>-1.1</td>\n",
       "      <td>94.767</td>\n",
       "      <td>-50.8</td>\n",
       "      <td>1.028</td>\n",
       "      <td>4963.6</td>\n",
       "      <td>yes</td>\n",
       "    </tr>\n",
       "    <tr>\n",
       "      <th>41187</th>\n",
       "      <td>74</td>\n",
       "      <td>retired</td>\n",
       "      <td>married</td>\n",
       "      <td>professional.course</td>\n",
       "      <td>no</td>\n",
       "      <td>yes</td>\n",
       "      <td>no</td>\n",
       "      <td>999</td>\n",
       "      <td>1</td>\n",
       "      <td>failure</td>\n",
       "      <td>-1.1</td>\n",
       "      <td>94.767</td>\n",
       "      <td>-50.8</td>\n",
       "      <td>1.028</td>\n",
       "      <td>4963.6</td>\n",
       "      <td>no</td>\n",
       "    </tr>\n",
       "  </tbody>\n",
       "</table>\n",
       "<p>41188 rows × 16 columns</p>\n",
       "</div>"
      ],
      "text/plain": [
       "       age          job  marital            education  default housing loan  \\\n",
       "0       56    housemaid  married             basic.4y       no      no   no   \n",
       "1       57     services  married          high.school  unknown      no   no   \n",
       "2       37     services  married          high.school       no     yes   no   \n",
       "3       40       admin.  married             basic.6y       no      no   no   \n",
       "4       56     services  married          high.school       no      no  yes   \n",
       "...    ...          ...      ...                  ...      ...     ...  ...   \n",
       "41183   73      retired  married  professional.course       no     yes   no   \n",
       "41184   46  blue-collar  married  professional.course       no      no   no   \n",
       "41185   56      retired  married    university.degree       no     yes   no   \n",
       "41186   44   technician  married  professional.course       no      no   no   \n",
       "41187   74      retired  married  professional.course       no     yes   no   \n",
       "\n",
       "       pdays  previous     poutcome  emp.var.rate  cons.price.idx  \\\n",
       "0        999         0  nonexistent           1.1          93.994   \n",
       "1        999         0  nonexistent           1.1          93.994   \n",
       "2        999         0  nonexistent           1.1          93.994   \n",
       "3        999         0  nonexistent           1.1          93.994   \n",
       "4        999         0  nonexistent           1.1          93.994   \n",
       "...      ...       ...          ...           ...             ...   \n",
       "41183    999         0  nonexistent          -1.1          94.767   \n",
       "41184    999         0  nonexistent          -1.1          94.767   \n",
       "41185    999         0  nonexistent          -1.1          94.767   \n",
       "41186    999         0  nonexistent          -1.1          94.767   \n",
       "41187    999         1      failure          -1.1          94.767   \n",
       "\n",
       "       cons.conf.idx  euribor3m  nr.employed    y  \n",
       "0              -36.4      4.857       5191.0   no  \n",
       "1              -36.4      4.857       5191.0   no  \n",
       "2              -36.4      4.857       5191.0   no  \n",
       "3              -36.4      4.857       5191.0   no  \n",
       "4              -36.4      4.857       5191.0   no  \n",
       "...              ...        ...          ...  ...  \n",
       "41183          -50.8      1.028       4963.6  yes  \n",
       "41184          -50.8      1.028       4963.6   no  \n",
       "41185          -50.8      1.028       4963.6   no  \n",
       "41186          -50.8      1.028       4963.6  yes  \n",
       "41187          -50.8      1.028       4963.6   no  \n",
       "\n",
       "[41188 rows x 16 columns]"
      ]
     },
     "execution_count": 3,
     "metadata": {},
     "output_type": "execute_result"
    }
   ],
   "source": [
    "df"
   ]
  },
  {
   "cell_type": "markdown",
   "metadata": {
    "tags": []
   },
   "source": [
    "# 1. How many features are available? How many customers?"
   ]
  },
  {
   "cell_type": "code",
   "execution_count": 4,
   "metadata": {},
   "outputs": [
    {
     "name": "stdout",
     "output_type": "stream",
     "text": [
      "This dataset has 16 features available and our dataset contains 41188 customers.\n"
     ]
    }
   ],
   "source": [
    "observations = df.shape[0]\n",
    "features = df.shape[1]\n",
    "\n",
    "print(f'This dataset has {features} features available and our dataset contains {observations} customers.')"
   ]
  },
  {
   "cell_type": "markdown",
   "metadata": {
    "tags": []
   },
   "source": [
    "# 2. How many customers do you have in the dataset who actually signed up for the term deposit? And how many didn't?"
   ]
  },
  {
   "cell_type": "code",
   "execution_count": 5,
   "metadata": {},
   "outputs": [
    {
     "data": {
      "text/plain": [
       "age               0\n",
       "job               0\n",
       "marital           0\n",
       "education         0\n",
       "default           0\n",
       "housing           0\n",
       "loan              0\n",
       "pdays             0\n",
       "previous          0\n",
       "poutcome          0\n",
       "emp.var.rate      0\n",
       "cons.price.idx    0\n",
       "cons.conf.idx     0\n",
       "euribor3m         0\n",
       "nr.employed       0\n",
       "y                 0\n",
       "dtype: int64"
      ]
     },
     "execution_count": 5,
     "metadata": {},
     "output_type": "execute_result"
    }
   ],
   "source": [
    "# Just to check if there were missing values in the y variable, and thus take the opportunity to check for missing values in the entire dataset.\n",
    "# As we can see, there are no missing values in this dataset\n",
    "\n",
    "df.isnull().sum()"
   ]
  },
  {
   "cell_type": "markdown",
   "metadata": {},
   "source": [
    "> Our dataset has no missing values."
   ]
  },
  {
   "cell_type": "code",
   "execution_count": 6,
   "metadata": {},
   "outputs": [
    {
     "data": {
      "text/plain": [
       "no     36548\n",
       "yes     4640\n",
       "Name: y, dtype: int64"
      ]
     },
     "execution_count": 6,
     "metadata": {},
     "output_type": "execute_result"
    }
   ],
   "source": [
    "df['y'].value_counts()"
   ]
  },
  {
   "cell_type": "code",
   "execution_count": 7,
   "metadata": {},
   "outputs": [
    {
     "name": "stdout",
     "output_type": "stream",
     "text": [
      "In this dataset, there are 4640 customers who effectively adhered to the term deposit, and 36548 customers who effectively did not adhere to the term deposit.\n"
     ]
    }
   ],
   "source": [
    "no = (df['y']=='no').sum()\n",
    "yes = (df['y']=='yes').sum()\n",
    "\n",
    "print(f'In this dataset, there are {yes} customers who effectively adhered to the term deposit, and {no} customers who effectively did not adhere to the term deposit.')"
   ]
  },
  {
   "cell_type": "markdown",
   "metadata": {
    "tags": []
   },
   "source": [
    "# 3. What are the most relevant features to decide whether a customer is more likely to adhere to the term deposit?"
   ]
  },
  {
   "cell_type": "markdown",
   "metadata": {},
   "source": [
    "Before we analyze the correlation between the variables, let's deal with the categorical variables that we want to add to our model. Just like the target variable."
   ]
  },
  {
   "cell_type": "markdown",
   "metadata": {
    "tags": []
   },
   "source": [
    "## 3.1. Quick observation of the data"
   ]
  },
  {
   "cell_type": "code",
   "execution_count": 8,
   "metadata": {},
   "outputs": [
    {
     "data": {
      "text/plain": [
       "Index(['age', 'job', 'marital', 'education', 'default', 'housing', 'loan',\n",
       "       'pdays', 'previous', 'poutcome', 'emp.var.rate', 'cons.price.idx',\n",
       "       'cons.conf.idx', 'euribor3m', 'nr.employed', 'y'],\n",
       "      dtype='object')"
      ]
     },
     "execution_count": 8,
     "metadata": {},
     "output_type": "execute_result"
    }
   ],
   "source": [
    "df.columns"
   ]
  },
  {
   "cell_type": "markdown",
   "metadata": {},
   "source": [
    "Taking into account our target variable, and the objective of this project, which is to select the best candidates to receive the marketing campaign, in order to reduce costs for the Awesome Bank.\n",
    "\n",
    "Taking into account the knowledge we have about the context and the variables present, they all seem to me to be quite interesting for solving our problem. I will continue with all of them instead of excluding those that seem less important at this point, and see how they behave."
   ]
  },
  {
   "cell_type": "code",
   "execution_count": 9,
   "metadata": {},
   "outputs": [
    {
     "name": "stdout",
     "output_type": "stream",
     "text": [
      "<class 'pandas.core.frame.DataFrame'>\n",
      "RangeIndex: 41188 entries, 0 to 41187\n",
      "Data columns (total 16 columns):\n",
      " #   Column          Non-Null Count  Dtype  \n",
      "---  ------          --------------  -----  \n",
      " 0   age             41188 non-null  int64  \n",
      " 1   job             41188 non-null  object \n",
      " 2   marital         41188 non-null  object \n",
      " 3   education       41188 non-null  object \n",
      " 4   default         41188 non-null  object \n",
      " 5   housing         41188 non-null  object \n",
      " 6   loan            41188 non-null  object \n",
      " 7   pdays           41188 non-null  int64  \n",
      " 8   previous        41188 non-null  int64  \n",
      " 9   poutcome        41188 non-null  object \n",
      " 10  emp.var.rate    41188 non-null  float64\n",
      " 11  cons.price.idx  41188 non-null  float64\n",
      " 12  cons.conf.idx   41188 non-null  float64\n",
      " 13  euribor3m       41188 non-null  float64\n",
      " 14  nr.employed     41188 non-null  float64\n",
      " 15  y               41188 non-null  object \n",
      "dtypes: float64(5), int64(3), object(8)\n",
      "memory usage: 5.0+ MB\n"
     ]
    }
   ],
   "source": [
    "df.info()"
   ]
  },
  {
   "cell_type": "code",
   "execution_count": 10,
   "metadata": {},
   "outputs": [
    {
     "name": "stdout",
     "output_type": "stream",
     "text": [
      "This dataset has 8 categorical variables and 8 numeric variables (including the target variable).\n"
     ]
    }
   ],
   "source": [
    "var_cat = len(df.select_dtypes(include=['object']).columns)\n",
    "\n",
    "var_num = len(df.select_dtypes(include=['int', 'float']).columns)\n",
    "\n",
    "\n",
    "print(f'This dataset has {var_cat} categorical variables and {var_num} numeric variables (including the target variable).')"
   ]
  },
  {
   "cell_type": "markdown",
   "metadata": {},
   "source": [
    "> We can see above that we have numerical and categorical variables. Let's look at them one by one."
   ]
  },
  {
   "cell_type": "markdown",
   "metadata": {
    "tags": []
   },
   "source": [
    "### 3.1.1. Encoding da variável target: `y`"
   ]
  },
  {
   "cell_type": "markdown",
   "metadata": {},
   "source": [
    "> **Como eu quero que a minha variável target `y` apareça no meu heatmap e no meu boxplot**  vou fazer agora o encoding da minha variável target. "
   ]
  },
  {
   "cell_type": "code",
   "execution_count": 11,
   "metadata": {},
   "outputs": [
    {
     "data": {
      "text/plain": [
       "no     36548\n",
       "yes     4640\n",
       "Name: y, dtype: int64"
      ]
     },
     "execution_count": 11,
     "metadata": {},
     "output_type": "execute_result"
    }
   ],
   "source": [
    "# Observar os valores da nossa target \n",
    "\n",
    "df.y.value_counts()"
   ]
  },
  {
   "cell_type": "code",
   "execution_count": 12,
   "metadata": {},
   "outputs": [
    {
     "data": {
      "text/plain": [
       "0.0    36548\n",
       "1.0     4640\n",
       "Name: y, dtype: int64"
      ]
     },
     "execution_count": 12,
     "metadata": {},
     "output_type": "execute_result"
    }
   ],
   "source": [
    "# Encoding da variável target\n",
    "# Ordinal Encoding\n",
    "\n",
    "\n",
    "ord_encoder_y = OrdinalEncoder(categories=[['no', 'yes']])\n",
    "\n",
    "df['y'] = ord_encoder_y.fit_transform(df[['y']])\n",
    "\n",
    "df['y'].value_counts()"
   ]
  },
  {
   "cell_type": "code",
   "execution_count": 13,
   "metadata": {},
   "outputs": [
    {
     "data": {
      "text/plain": [
       "0    36548\n",
       "1     4640\n",
       "Name: y, dtype: int64"
      ]
     },
     "execution_count": 13,
     "metadata": {},
     "output_type": "execute_result"
    }
   ],
   "source": [
    "# Porque eu quero que seja número inteiro e não float\n",
    "\n",
    "df['y'] = df['y'].astype(int)\n",
    "\n",
    "df['y'].value_counts()"
   ]
  },
  {
   "cell_type": "code",
   "execution_count": 14,
   "metadata": {},
   "outputs": [
    {
     "data": {
      "text/plain": [
       "[array(['no', 'yes'], dtype=object)]"
      ]
     },
     "execution_count": 14,
     "metadata": {},
     "output_type": "execute_result"
    }
   ],
   "source": [
    "ord_encoder_y.categories_"
   ]
  },
  {
   "cell_type": "markdown",
   "metadata": {},
   "source": [
    "## 3.2. Variance Threshold"
   ]
  },
  {
   "cell_type": "code",
   "execution_count": 15,
   "metadata": {},
   "outputs": [],
   "source": [
    "df_num = df.select_dtypes(include=['int', 'float'])"
   ]
  },
  {
   "cell_type": "code",
   "execution_count": 16,
   "metadata": {},
   "outputs": [
    {
     "data": {
      "text/plain": [
       "age                 108.602451\n",
       "pdays             34935.687284\n",
       "previous              0.244927\n",
       "emp.var.rate          2.467915\n",
       "cons.price.idx        0.335056\n",
       "cons.conf.idx        21.420215\n",
       "euribor3m             3.008308\n",
       "nr.employed        5220.283250\n",
       "y                     0.099966\n",
       "dtype: float64"
      ]
     },
     "execution_count": 16,
     "metadata": {},
     "output_type": "execute_result"
    }
   ],
   "source": [
    "# Calculate the variance of each variable\n",
    "\n",
    "df_num.std()**2"
   ]
  },
  {
   "cell_type": "code",
   "execution_count": 17,
   "metadata": {},
   "outputs": [
    {
     "data": {
      "text/plain": [
       "array([[5.6000e+01, 9.9900e+02, 0.0000e+00, ..., 4.8570e+00, 5.1910e+03,\n",
       "        0.0000e+00],\n",
       "       [5.7000e+01, 9.9900e+02, 0.0000e+00, ..., 4.8570e+00, 5.1910e+03,\n",
       "        0.0000e+00],\n",
       "       [3.7000e+01, 9.9900e+02, 0.0000e+00, ..., 4.8570e+00, 5.1910e+03,\n",
       "        0.0000e+00],\n",
       "       ...,\n",
       "       [5.6000e+01, 9.9900e+02, 0.0000e+00, ..., 1.0280e+00, 4.9636e+03,\n",
       "        0.0000e+00],\n",
       "       [4.4000e+01, 9.9900e+02, 0.0000e+00, ..., 1.0280e+00, 4.9636e+03,\n",
       "        1.0000e+00],\n",
       "       [7.4000e+01, 9.9900e+02, 1.0000e+00, ..., 1.0280e+00, 4.9636e+03,\n",
       "        0.0000e+00]])"
      ]
     },
     "execution_count": 17,
     "metadata": {},
     "output_type": "execute_result"
    }
   ],
   "source": [
    "var_th = VarianceThreshold(threshold=0.05)\n",
    "var_th.fit_transform(df_num)"
   ]
  },
  {
   "cell_type": "code",
   "execution_count": 18,
   "metadata": {},
   "outputs": [
    {
     "data": {
      "text/plain": [
       "array([ True,  True,  True,  True,  True,  True,  True,  True,  True])"
      ]
     },
     "execution_count": 18,
     "metadata": {},
     "output_type": "execute_result"
    }
   ],
   "source": [
    "var_th.get_support()"
   ]
  },
  {
   "cell_type": "code",
   "execution_count": 19,
   "metadata": {},
   "outputs": [
    {
     "data": {
      "text/plain": [
       "Index(['age', 'pdays', 'previous', 'emp.var.rate', 'cons.price.idx',\n",
       "       'cons.conf.idx', 'euribor3m', 'nr.employed', 'y'],\n",
       "      dtype='object')"
      ]
     },
     "execution_count": 19,
     "metadata": {},
     "output_type": "execute_result"
    }
   ],
   "source": [
    "df_num.columns"
   ]
  },
  {
   "cell_type": "markdown",
   "metadata": {},
   "source": [
    ">  According to the Variance Threshold, we can keep all the variables. Which means that according to the Variance Threshold for a threshold value of 0.05, the variables in our dataset have a good enough variance, not being necessary to remove them due to a low variance. "
   ]
  },
  {
   "cell_type": "markdown",
   "metadata": {
    "tags": []
   },
   "source": [
    "## 3.3. Correlations"
   ]
  },
  {
   "cell_type": "markdown",
   "metadata": {},
   "source": [
    "Let's check correlations between numerical variables, to see how the variables behave and whether they are correlated with each other or not. Let's check out the Pearson Correlation and the Spearman Correlation.Vamos verificar correlações entre variáveis numéricas, para ver como é que as variáveis se comportam e se estão correlacionadas entre eles ou não. Vamos verificar aao de  Correlação de Pearson e a Correlação de Spearman. "
   ]
  },
  {
   "cell_type": "markdown",
   "metadata": {},
   "source": [
    "#### 3.3.1. Numeric variables"
   ]
  },
  {
   "cell_type": "markdown",
   "metadata": {
    "tags": []
   },
   "source": [
    "##### 3.3.1.1. Pearson's Correlation Coefficient"
   ]
  },
  {
   "cell_type": "code",
   "execution_count": 20,
   "metadata": {},
   "outputs": [
    {
     "data": {
      "image/png": "[encoded data removed]",
      "text/plain": [
       "<Figure size 1000x800 with 2 Axes>"
      ]
     },
     "metadata": {},
     "output_type": "display_data"
    }
   ],
   "source": [
    "fig, ax = plt.subplots(figsize=(10, 8))\n",
    "\n",
    "corr = df.corr(method=\"pearson\")\n",
    "\n",
    "mask = np.triu(np.ones_like(corr))\n",
    "\n",
    "sns.heatmap(\n",
    "    corr, vmin=-1, vmax=1, annot=True, square=True, cmap=\"coolwarm\",\n",
    "    mask=mask\n",
    ")\n",
    "\n",
    "ax.set_title('Pearson Correlation Coefficient')\n",
    "\n",
    "plt.show()"
   ]
  },
  {
   "cell_type": "code",
   "execution_count": 21,
   "metadata": {},
   "outputs": [
    {
     "name": "stdout",
     "output_type": "stream",
     "text": [
      "age -- > PearsonRResult(statistic=0.030398803040004113, pvalue=6.802136418820705e-10)\n",
      "pdays -- > PearsonRResult(statistic=-0.3249144776166292, pvalue=0.0)\n",
      "previous -- > PearsonRResult(statistic=0.23018100321659568, pvalue=0.0)\n",
      "emp.var.rate -- > PearsonRResult(statistic=-0.2983344261593794, pvalue=0.0)\n",
      "cons.price.idx -- > PearsonRResult(statistic=-0.13621121281925047, pvalue=9.318964779840192e-170)\n",
      "cons.conf.idx -- > PearsonRResult(statistic=0.05487794605319662, pvalue=7.536664996950438e-29)\n",
      "euribor3m -- > PearsonRResult(statistic=-0.3077714039407251, pvalue=0.0)\n",
      "nr.employed -- > PearsonRResult(statistic=-0.35467829592144284, pvalue=0.0)\n",
      "y -- > PearsonRResult(statistic=1.0, pvalue=0.0)\n"
     ]
    }
   ],
   "source": [
    "#df_num = df.select_dtypes(include=['int', 'float'])\n",
    "\n",
    "\n",
    "for col in df_num.columns:\n",
    "    \n",
    "    corr_pearson = stats.pearsonr(df_num[col], df_num['y'])\n",
    "    \n",
    "    print(f'{col} -- > {corr_pearson}')"
   ]
  },
  {
   "cell_type": "markdown",
   "metadata": {},
   "source": [
    "We can see that the variables with the highest correlation are `euribor3m` `emp.var.rate`, we will probably exclude one of these variables. Also `nr.employed` is strongly correlated with `euribor3m`, as well as the variables `nr.employed` and `emp.var.rate`. These variables that were mentioned have a correlation above 0.90 which is worrying. They are variables that make sense to be correlated, and we want our independent variables from our dataset that will be implemented in the model to be as independent as possible, so some of these variables will have to be eliminated.\n",
    "\n",
    "\n",
    "Regarding the correlation with the target, the variable that has the highest correlation with the target is (1) `nr.employed` with 0.35, followed by (2) `pdays` with 0.32, then (3) `euribor3m` with 0.31, followed by the variables (4) `emp.var.rate` with 0.3, (5) `previous`, (6) `cons.price.idx` with 0.055, (7) `cons.conf.idx ` and finally (8) `age` with 0.03.\n",
    "\n",
    "That said, a possible decision for the feature selection will be to exclude the variables:\n",
    "- `euribor3m`\n",
    "- `emp.var.rate`"
   ]
  },
  {
   "cell_type": "code",
   "execution_count": 22,
   "metadata": {},
   "outputs": [
    {
     "data": {
      "text/plain": [
       "Index(['age', 'job', 'marital', 'education', 'default', 'housing', 'loan',\n",
       "       'pdays', 'previous', 'poutcome', 'emp.var.rate', 'cons.price.idx',\n",
       "       'cons.conf.idx', 'euribor3m', 'nr.employed', 'y'],\n",
       "      dtype='object')"
      ]
     },
     "execution_count": 22,
     "metadata": {},
     "output_type": "execute_result"
    }
   ],
   "source": [
    "df.columns"
   ]
  },
  {
   "cell_type": "markdown",
   "metadata": {
    "tags": []
   },
   "source": [
    "##### 3.3.1.2. Spearman Correlation Coefficient"
   ]
  },
  {
   "cell_type": "code",
   "execution_count": 23,
   "metadata": {},
   "outputs": [
    {
     "data": {
      "image/png": "[encoded data removed]",
      "text/plain": [
       "<Figure size 1000x800 with 2 Axes>"
      ]
     },
     "metadata": {},
     "output_type": "display_data"
    }
   ],
   "source": [
    "fig, ax = plt.subplots(figsize=(10, 8))\n",
    "\n",
    "corr = df.corr(method=\"spearman\")\n",
    "\n",
    "mask = np.triu(np.ones_like(corr))\n",
    "\n",
    "sns.heatmap(\n",
    "    corr, vmin=-1, vmax=1, annot=True, square=True, cmap=\"coolwarm\",\n",
    "    mask=mask\n",
    ")\n",
    "\n",
    "ax.set_title('Spearman Correlation Coefficient')\n",
    "\n",
    "plt.show()"
   ]
  },
  {
   "cell_type": "code",
   "execution_count": 24,
   "metadata": {},
   "outputs": [
    {
     "name": "stdout",
     "output_type": "stream",
     "text": [
      "age -- > SpearmanrResult(correlation=-0.011860718745247863, pvalue=0.016078711774224395)\n",
      "pdays -- > SpearmanrResult(correlation=-0.3249417994437113, pvalue=0.0)\n",
      "previous -- > SpearmanrResult(correlation=0.20091403160833127, pvalue=0.0)\n",
      "emp.var.rate -- > SpearmanrResult(correlation=-0.24747966943978417, pvalue=0.0)\n",
      "cons.price.idx -- > SpearmanrResult(correlation=-0.12218710346528146, pvalue=9.495550217905643e-137)\n",
      "cons.conf.idx -- > SpearmanrResult(correlation=0.04122858641488948, pvalue=5.733767718816937e-17)\n",
      "euribor3m -- > SpearmanrResult(correlation=-0.26682159876160344, pvalue=0.0)\n",
      "nr.employed -- > SpearmanrResult(correlation=-0.28395704046492, pvalue=0.0)\n",
      "y -- > SpearmanrResult(correlation=1.0, pvalue=0.0)\n"
     ]
    }
   ],
   "source": [
    "df_num = df.select_dtypes(include=['int', 'float'])\n",
    "\n",
    "\n",
    "for col in df_num.columns:\n",
    "    \n",
    "    corr_spearman = stats.spearmanr(df_num[col], df_num['y'])\n",
    "    \n",
    "    print(f'{col} -- > {corr_spearman}')"
   ]
  },
  {
   "cell_type": "markdown",
   "metadata": {},
   "source": [
    "> Through the analysis of Spearman's correlation coefficients, we can conclude that we draw the same conclusions as we drew from Pearson's correlation coefficients. The variables are very similarly related in both correlation coefficients. "
   ]
  },
  {
   "cell_type": "code",
   "execution_count": 25,
   "metadata": {},
   "outputs": [
    {
     "data": {
      "text/plain": [
       "dtype('int64')"
      ]
     },
     "execution_count": 25,
     "metadata": {},
     "output_type": "execute_result"
    }
   ],
   "source": [
    "# check target dtype\n",
    "\n",
    "df['y'].dtype"
   ]
  },
  {
   "cell_type": "code",
   "execution_count": 26,
   "metadata": {},
   "outputs": [
    {
     "data": {
      "text/plain": [
       "CategoricalDtype(categories=[0, 1], ordered=False)"
      ]
     },
     "execution_count": 26,
     "metadata": {},
     "output_type": "execute_result"
    }
   ],
   "source": [
    "# Transform `y` into dtype `category`\n",
    "\n",
    "df['y'] = df['y'].astype('category')\n",
    "df['y'].dtype"
   ]
  },
  {
   "cell_type": "markdown",
   "metadata": {},
   "source": [
    "##### 3.3.1.3. Exclude Numeric Variables"
   ]
  },
  {
   "cell_type": "markdown",
   "metadata": {},
   "source": [
    "According to the analyzes made above -**Pearson Correlation**, **Spearman Correlation** - the variables likely to be excluded from our dataset are:\n",
    "- `euribor3m`\n",
    "- `emp.var.rate`"
   ]
  },
  {
   "cell_type": "code",
   "execution_count": 27,
   "metadata": {},
   "outputs": [],
   "source": [
    "# Drop variables `emp.var.rate` and `euribor3m`\n",
    "\n",
    "df.drop(columns = ['emp.var.rate', 'euribor3m'], axis=1, inplace = True)"
   ]
  },
  {
   "cell_type": "markdown",
   "metadata": {
    "tags": []
   },
   "source": [
    "#### 3.3.2. Categorical variables: Chi-square test"
   ]
  },
  {
   "cell_type": "code",
   "execution_count": 28,
   "metadata": {},
   "outputs": [
    {
     "data": {
      "text/plain": [
       "['job', 'marital', 'education', 'default', 'housing', 'loan', 'poutcome', 'y']"
      ]
     },
     "execution_count": 28,
     "metadata": {},
     "output_type": "execute_result"
    }
   ],
   "source": [
    "df_cat = df.select_dtypes(include=['object', 'category'])\n",
    "\n",
    "df_cat.columns.tolist()"
   ]
  },
  {
   "cell_type": "code",
   "execution_count": 29,
   "metadata": {},
   "outputs": [
    {
     "name": "stdout",
     "output_type": "stream",
     "text": [
      "\n",
      " y                 0     1\n",
      "job                      \n",
      "admin.         9070  1352\n",
      "blue-collar    8616   638\n",
      "entrepreneur   1332   124\n",
      "housemaid       954   106\n",
      "management     2596   328\n",
      "retired        1286   434\n",
      "self-employed  1272   149\n",
      "services       3646   323\n",
      "student         600   275\n",
      "technician     6013   730\n",
      "unemployed      870   144\n",
      "unknown         293    37\n",
      "Chi: 961.24 | Feature: job | p-value: 4.189763287563623e-199\n",
      "\n",
      " y             0     1\n",
      "marital              \n",
      "divorced   4136   476\n",
      "married   22396  2532\n",
      "single     9948  1620\n",
      "unknown      68    12\n",
      "Chi: 122.66 | Feature: marital | p-value: 2.068014648442211e-26\n",
      "\n",
      " y                        0     1\n",
      "education                       \n",
      "basic.4y              3748   428\n",
      "basic.6y              2104   188\n",
      "basic.9y              5572   473\n",
      "high.school           8484  1031\n",
      "illiterate              14     4\n",
      "professional.course   4648   595\n",
      "university.degree    10498  1670\n",
      "unknown               1480   251\n",
      "Chi: 193.11 | Feature: education | p-value: 3.3051890144025054e-38\n",
      "\n",
      " y            0     1\n",
      "default             \n",
      "no       28391  4197\n",
      "unknown   8154   443\n",
      "yes          3     0\n",
      "Chi: 406.58 | Feature: default | p-value: 5.1619579513916376e-89\n",
      "\n",
      " y            0     1\n",
      "housing             \n",
      "no       16596  2026\n",
      "unknown    883   107\n",
      "yes      19069  2507\n",
      "Chi: 5.68 | Feature: housing | p-value: 0.05829447669453452\n",
      "\n",
      " y            0     1\n",
      "loan                \n",
      "no       30100  3850\n",
      "unknown    883   107\n",
      "yes       5565   683\n",
      "Chi: 1.09 | Feature: loan | p-value: 0.5786752870441754\n",
      "\n",
      " y                0     1\n",
      "poutcome                \n",
      "failure       3647   605\n",
      "nonexistent  32422  3141\n",
      "success        479   894\n",
      "Chi: 4230.52 | Feature: poutcome | p-value: 0.0\n",
      "\n",
      " y      0     1\n",
      "y             \n",
      "0  36548     0\n",
      "1      0  4640\n",
      "Chi: 41178.0 | Feature: y | p-value: 0.0\n"
     ]
    }
   ],
   "source": [
    "for col in df_cat.columns:\n",
    "    table = pd.crosstab(df_cat[col], df['y'])\n",
    "    print('\\n', table)\n",
    "    chi, pval, _, expected_table = stats.chi2_contingency(table)\n",
    "    print('Chi:', round(chi,2),'| Feature:', col, '| p-value:', pval)"
   ]
  },
  {
   "cell_type": "markdown",
   "metadata": {},
   "source": [
    "> Taking into account the p-value values, I would exclude from my models the variables: `loan`, `housing`. Because I want variables with a pvalue equal to or less than **0.05**, and the pvalue of the `housing` variable is `0.05829447669453452`, which is risky to stick with it, because it's approximately **0.06**."
   ]
  },
  {
   "cell_type": "code",
   "execution_count": 30,
   "metadata": {},
   "outputs": [],
   "source": [
    "# Drop variables `loan` and `housing`\n",
    "\n",
    "df.drop(columns = ['loan', 'housing'], axis=1, inplace = True)"
   ]
  },
  {
   "cell_type": "markdown",
   "metadata": {
    "tags": []
   },
   "source": [
    "## 3.4. Outiliers"
   ]
  },
  {
   "cell_type": "code",
   "execution_count": 31,
   "metadata": {},
   "outputs": [
    {
     "data": {
      "text/plain": [
       "<Figure size 2000x1000 with 0 Axes>"
      ]
     },
     "metadata": {},
     "output_type": "display_data"
    },
    {
     "data": {
      "image/png": "[encoded data removed]",
      "text/plain": [
       "<Figure size 640x480 with 6 Axes>"
      ]
     },
     "metadata": {},
     "output_type": "display_data"
    }
   ],
   "source": [
    "# Check distribution of variables in our dataset\n",
    "\n",
    "fig = plt.figure(figsize = (20, 10))\n",
    "\n",
    "df.hist(bins=20)\n",
    "\n",
    "plt.suptitle(\"Histogram of Features\")\n",
    "plt.xlabel(\"Values\")\n",
    "plt.ylabel(\"Frequency\")\n",
    "\n",
    "plt.subplots_adjust(hspace=2)\n",
    "\n",
    "plt.show()"
   ]
  },
  {
   "cell_type": "code",
   "execution_count": 32,
   "metadata": {},
   "outputs": [],
   "source": [
    "df_num = df.select_dtypes(include=['int', 'float'])\n",
    "\n",
    "\n",
    "for col in df_num.columns:\n",
    "    \n",
    "    skewness = stats.skew(df_num[col])\n",
    "    kurtosis = stats.kurtosis(df_num[col])\n",
    "    \n",
    "    if (-2 < skewness < 2) and kurtosis > 2:\n",
    "        print(f'Variable `{col}` has a skewness of {skewness} and a kurtosis of {kurtosis}')"
   ]
  },
  {
   "cell_type": "markdown",
   "metadata": {},
   "source": [
    "> This condition allows us to know if we have any variable with normal distribution according to kurtosis and skwness, and we can conclude that we do not have any variable with a normal distribution, as we can also see in the histograms above.\n",
    "\n",
    "> We can then use the IQR to identify outliers. "
   ]
  },
  {
   "cell_type": "code",
   "execution_count": 33,
   "metadata": {},
   "outputs": [],
   "source": [
    "#IQR\n",
    "def possible_outliers(x):\n",
    "    \n",
    "    percentile25 = x.quantile(0.25)\n",
    "    percentile75 = x.quantile(0.75)\n",
    "     \n",
    "    iqr = percentile75 - percentile25\n",
    "     \n",
    "     \n",
    "    upper_lim = percentile75 + 1.5*iqr\n",
    "    lower_lim = percentile25 - 1.5*iqr\n",
    "    \n",
    "    r = (x < lower_lim) | (x > upper_lim)\n",
    "    \n",
    "    return r.sum()"
   ]
  },
  {
   "cell_type": "code",
   "execution_count": 34,
   "metadata": {},
   "outputs": [
    {
     "name": "stdout",
     "output_type": "stream",
     "text": [
      "Variable 'age' has 469 outliers.\n",
      "Variable 'pdays' has 1515 outliers.\n",
      "Variable 'previous' has 5625 outliers.\n",
      "Variable 'cons.conf.idx' has 447 outliers.\n"
     ]
    }
   ],
   "source": [
    "for col in df_num.columns:\n",
    "    num_outliers = possible_outliers(df_num[col])\n",
    "    \n",
    "    if num_outliers > 0:\n",
    "        print(f\"Variable '{col}' has {num_outliers} outliers.\")"
   ]
  },
  {
   "cell_type": "markdown",
   "metadata": {},
   "source": [
    "### 3.4.1. Visualize outliers"
   ]
  },
  {
   "cell_type": "markdown",
   "metadata": {
    "tags": []
   },
   "source": [
    "#### a) `age`"
   ]
  },
  {
   "cell_type": "code",
   "execution_count": 35,
   "metadata": {},
   "outputs": [
    {
     "data": {
      "text/plain": [
       "Text(0.5, 1.0, 'Age - Outliers')"
      ]
     },
     "execution_count": 35,
     "metadata": {},
     "output_type": "execute_result"
    },
    {
     "data": {
      "image/png": "[encoded data removed]",
      "text/plain": [
       "<Figure size 640x480 with 1 Axes>"
      ]
     },
     "metadata": {},
     "output_type": "display_data"
    }
   ],
   "source": [
    "# Vizualizar outliers\n",
    "#age\n",
    "\n",
    "fig, ax = plt.figsize=(8, 20)\n",
    "    \n",
    "ax = \\\n",
    "sns.boxplot(\n",
    "    x=\"y\", \n",
    "    y=\"age\", \n",
    "    data=df\n",
    ")\n",
    "\n",
    "labels = [\"No\", \"Yes\"]\n",
    "ax.set_xticklabels(labels) # rename each boxplot\n",
    "ax.set(xlabel=None); # remove x label (target)\n",
    "\n",
    "# Title\n",
    "ax.set_title('Age - Outliers')"
   ]
  },
  {
   "cell_type": "markdown",
   "metadata": {
    "tags": []
   },
   "source": [
    "#### b) `pdays`"
   ]
  },
  {
   "cell_type": "code",
   "execution_count": 36,
   "metadata": {},
   "outputs": [
    {
     "data": {
      "text/plain": [
       "Text(0.5, 1.0, 'Pdays - Outliers')"
      ]
     },
     "execution_count": 36,
     "metadata": {},
     "output_type": "execute_result"
    },
    {
     "data": {
      "image/png": "[encoded data removed]",
      "text/plain": [
       "<Figure size 640x480 with 1 Axes>"
      ]
     },
     "metadata": {},
     "output_type": "display_data"
    }
   ],
   "source": [
    "# Vizualize outliers\n",
    "#pdays\n",
    "\n",
    "fig, ax = plt.figsize=(8, 20)\n",
    "    \n",
    "ax = \\\n",
    "sns.boxplot(\n",
    "    x=\"y\", \n",
    "    y=\"pdays\", \n",
    "    data=df\n",
    ")\n",
    "\n",
    "labels = [\"No\", \"Yes\"]\n",
    "ax.set_xticklabels(labels) # rename each boxplot\n",
    "ax.set(xlabel=None); # remove x label (target)\n",
    "\n",
    "# Title\n",
    "ax.set_title('Pdays - Outliers')"
   ]
  },
  {
   "cell_type": "code",
   "execution_count": 37,
   "metadata": {},
   "outputs": [
    {
     "name": "stdout",
     "output_type": "stream",
     "text": [
      "Percentage of outliers in `pdays`: 3.68 %\n"
     ]
    }
   ],
   "source": [
    "print('Percentage of outliers in `pdays`:', str(round(possible_outliers(df['pdays'])/df['pdays'].count()*100,2)) + ' %')"
   ]
  },
  {
   "cell_type": "markdown",
   "metadata": {
    "tags": []
   },
   "source": [
    "#### c) `previous`"
   ]
  },
  {
   "cell_type": "code",
   "execution_count": 38,
   "metadata": {},
   "outputs": [
    {
     "data": {
      "text/plain": [
       "Text(0.5, 1.0, 'Previous - Outliers')"
      ]
     },
     "execution_count": 38,
     "metadata": {},
     "output_type": "execute_result"
    },
    {
     "data": {
      "image/png": "[encoded data removed]",
      "text/plain": [
       "<Figure size 640x480 with 1 Axes>"
      ]
     },
     "metadata": {},
     "output_type": "display_data"
    }
   ],
   "source": [
    "# Vizualize outliers\n",
    "#previous\n",
    "\n",
    "fig, ax = plt.figsize=(8, 20)\n",
    "    \n",
    "ax = \\\n",
    "sns.boxplot(\n",
    "    x=\"y\", \n",
    "    y=\"previous\", \n",
    "    data=df\n",
    ")\n",
    "\n",
    "labels = [\"No\", \"Yes\"]\n",
    "ax.set_xticklabels(labels) # rename each boxplot\n",
    "ax.set(xlabel=None); # remove x label (target)\n",
    "\n",
    "# Title\n",
    "ax.set_title('Previous - Outliers')"
   ]
  },
  {
   "cell_type": "markdown",
   "metadata": {
    "tags": []
   },
   "source": [
    "#### d) `cons.conf.idx`"
   ]
  },
  {
   "cell_type": "code",
   "execution_count": 39,
   "metadata": {},
   "outputs": [
    {
     "data": {
      "text/plain": [
       "Text(0.5, 1.0, 'Consumer confidence index - Outliers')"
      ]
     },
     "execution_count": 39,
     "metadata": {},
     "output_type": "execute_result"
    },
    {
     "data": {
      "image/png": "[encoded data removed]",
      "text/plain": [
       "<Figure size 640x480 with 1 Axes>"
      ]
     },
     "metadata": {},
     "output_type": "display_data"
    }
   ],
   "source": [
    "# Vizualize outliers\n",
    "#cons.conf.idx\n",
    "\n",
    "fig, ax = plt.figsize=(8, 20)\n",
    "    \n",
    "ax = \\\n",
    "sns.boxplot(\n",
    "    x=\"y\", \n",
    "    y=\"cons.conf.idx\", \n",
    "    data=df\n",
    ")\n",
    "\n",
    "#labels\n",
    "labels = [\"No\", \"Yes\"]\n",
    "ax.set_xticklabels(labels) # rename each boxplot\n",
    "ax.set(xlabel=None); # remove x label (target)\n",
    "\n",
    "# Title\n",
    "ax.set_title('Consumer confidence index - Outliers')"
   ]
  },
  {
   "cell_type": "markdown",
   "metadata": {},
   "source": [
    "### 3.4.2. Handle outliers"
   ]
  },
  {
   "cell_type": "markdown",
   "metadata": {},
   "source": [
    "To handle the outliers, we will use the binning - equal depth technique, with the exception of the `pdays` variable, where we will probably eliminate the outliers. But before dealing with outliers, let's divide the dataset between training and testing, as it is recommended before applying techniques to treat outliers."
   ]
  },
  {
   "cell_type": "code",
   "execution_count": 40,
   "metadata": {},
   "outputs": [],
   "source": [
    "# Split dataset into train and test\n",
    "\n",
    "train_set, test_set = train_test_split(df, test_size = 0.2, random_state = seed)\n",
    "\n",
    "X_train = train_set.drop(['y'], axis = 1)\n",
    "y_train = train_set['y'].astype('category')\n",
    "\n",
    "X_test = test_set.drop(['y'], axis = 1)\n",
    "y_test = test_set['y'].astype('category')"
   ]
  },
  {
   "cell_type": "code",
   "execution_count": 41,
   "metadata": {},
   "outputs": [
    {
     "data": {
      "text/plain": [
       "CategoricalDtype(categories=[0, 1], ordered=False)"
      ]
     },
     "execution_count": 41,
     "metadata": {},
     "output_type": "execute_result"
    }
   ],
   "source": [
    "# To check the dtype of the target variable, if our code above worked\n",
    "\n",
    "y_train.dtype"
   ]
  },
  {
   "cell_type": "markdown",
   "metadata": {},
   "source": [
    "#### a) `age`"
   ]
  },
  {
   "cell_type": "code",
   "execution_count": 42,
   "metadata": {},
   "outputs": [],
   "source": [
    "disc_quantile_estimator_age = KBinsDiscretizer(n_bins=[3], encode='ordinal', strategy='quantile')"
   ]
  },
  {
   "cell_type": "code",
   "execution_count": 43,
   "metadata": {},
   "outputs": [],
   "source": [
    "X_train['age'] = disc_quantile_estimator_age.fit_transform(X_train[['age']])\n",
    "\n",
    "X_test['age'] = disc_quantile_estimator_age.transform(X_test[['age']])"
   ]
  },
  {
   "cell_type": "markdown",
   "metadata": {},
   "source": [
    "#### b) `pdays`"
   ]
  },
  {
   "cell_type": "markdown",
   "metadata": {},
   "source": [
    "As there are not many outliers, due to the size of our dataset, we will exclude them."
   ]
  },
  {
   "cell_type": "code",
   "execution_count": 44,
   "metadata": {},
   "outputs": [
    {
     "name": "stdout",
     "output_type": "stream",
     "text": [
      "Number of outliers in `pdays` = 41188\n"
     ]
    }
   ],
   "source": [
    "mask_outliers_pdays = df['pdays' ]< 1000\n",
    "\n",
    "print('Number of outliers in `pdays` =', mask_outliers_pdays.sum())"
   ]
  },
  {
   "cell_type": "code",
   "execution_count": 45,
   "metadata": {},
   "outputs": [],
   "source": [
    "df = df[~mask_outliers_pdays]"
   ]
  },
  {
   "cell_type": "markdown",
   "metadata": {},
   "source": [
    "#### c) `previous`"
   ]
  },
  {
   "cell_type": "markdown",
   "metadata": {},
   "source": [
    "In this variable, we will not touch the outliers. Because there is a possibility of losing information."
   ]
  },
  {
   "cell_type": "markdown",
   "metadata": {},
   "source": [
    "#### d) `cons.conf.idx`"
   ]
  },
  {
   "cell_type": "code",
   "execution_count": 46,
   "metadata": {},
   "outputs": [],
   "source": [
    "disc_quantile_estimator_consconfidx = KBinsDiscretizer(n_bins=[3], encode='ordinal', strategy='quantile')"
   ]
  },
  {
   "cell_type": "code",
   "execution_count": 47,
   "metadata": {},
   "outputs": [],
   "source": [
    "X_train['cons.conf.idx'] = disc_quantile_estimator_consconfidx.fit_transform(X_train[['cons.conf.idx']])\n",
    "\n",
    "X_test['cons.conf.idx'] = disc_quantile_estimator_consconfidx.transform(X_test[['cons.conf.idx']])"
   ]
  },
  {
   "cell_type": "markdown",
   "metadata": {
    "tags": []
   },
   "source": [
    "## 3.5. Missing Values"
   ]
  },
  {
   "cell_type": "code",
   "execution_count": 48,
   "metadata": {},
   "outputs": [
    {
     "name": "stdout",
     "output_type": "stream",
     "text": [
      "Missing values in our dataset: \n",
      " age               0.0\n",
      "job               0.0\n",
      "marital           0.0\n",
      "education         0.0\n",
      "default           0.0\n",
      "pdays             0.0\n",
      "previous          0.0\n",
      "poutcome          0.0\n",
      "cons.price.idx    0.0\n",
      "cons.conf.idx     0.0\n",
      "nr.employed       0.0\n",
      "y                 0.0\n",
      "dtype: float64\n"
     ]
    }
   ],
   "source": [
    "print('Missing values in our dataset:', '\\n', df.isnull().sum())"
   ]
  },
  {
   "cell_type": "markdown",
   "metadata": {},
   "source": [
    "> As we can see above, we don't have missing values in our dataset."
   ]
  },
  {
   "cell_type": "markdown",
   "metadata": {
    "tags": []
   },
   "source": [
    "## 3.6. Handle categorical variables\n"
   ]
  },
  {
   "cell_type": "code",
   "execution_count": 49,
   "metadata": {},
   "outputs": [
    {
     "data": {
      "text/plain": [
       "Index(['job', 'marital', 'education', 'default', 'poutcome'], dtype='object')"
      ]
     },
     "execution_count": 49,
     "metadata": {},
     "output_type": "execute_result"
    }
   ],
   "source": [
    "# Recheck categorical variables\n",
    "\n",
    "X_train_cat = X_train.select_dtypes(include = ['object', 'category'])\n",
    "\n",
    "X_train_cat.columns"
   ]
  },
  {
   "cell_type": "markdown",
   "metadata": {
    "tags": []
   },
   "source": [
    "### a) `job`"
   ]
  },
  {
   "cell_type": "code",
   "execution_count": 50,
   "metadata": {},
   "outputs": [
    {
     "data": {
      "text/plain": [
       "admin.           8328\n",
       "blue-collar      7439\n",
       "technician       5352\n",
       "services         3212\n",
       "management       2310\n",
       "retired          1363\n",
       "self-employed    1153\n",
       "entrepreneur     1145\n",
       "housemaid         867\n",
       "unemployed        798\n",
       "student           721\n",
       "unknown           262\n",
       "Name: job, dtype: int64"
      ]
     },
     "execution_count": 50,
     "metadata": {},
     "output_type": "execute_result"
    }
   ],
   "source": [
    "X_train.job.value_counts()"
   ]
  },
  {
   "cell_type": "code",
   "execution_count": 51,
   "metadata": {},
   "outputs": [
    {
     "data": {
      "text/plain": [
       "array(['blue-collar', 'admin.', 'retired', 'housemaid', 'management',\n",
       "       'technician', 'entrepreneur', 'services', 'student', 'unemployed',\n",
       "       'self-employed', 'unknown'], dtype=object)"
      ]
     },
     "execution_count": 51,
     "metadata": {},
     "output_type": "execute_result"
    }
   ],
   "source": [
    "X_train['job'].unique()"
   ]
  },
  {
   "cell_type": "code",
   "execution_count": 52,
   "metadata": {},
   "outputs": [
    {
     "data": {
      "text/html": [
       "<div>\n",
       "<style scoped>\n",
       "    .dataframe tbody tr th:only-of-type {\n",
       "        vertical-align: middle;\n",
       "    }\n",
       "\n",
       "    .dataframe tbody tr th {\n",
       "        vertical-align: top;\n",
       "    }\n",
       "\n",
       "    .dataframe thead th {\n",
       "        text-align: right;\n",
       "    }\n",
       "</style>\n",
       "<table border=\"1\" class=\"dataframe\">\n",
       "  <thead>\n",
       "    <tr style=\"text-align: right;\">\n",
       "      <th></th>\n",
       "      <th>job_0</th>\n",
       "      <th>job_1</th>\n",
       "      <th>job_2</th>\n",
       "      <th>job_3</th>\n",
       "    </tr>\n",
       "  </thead>\n",
       "  <tbody>\n",
       "    <tr>\n",
       "      <th>12556</th>\n",
       "      <td>0</td>\n",
       "      <td>0</td>\n",
       "      <td>0</td>\n",
       "      <td>1</td>\n",
       "    </tr>\n",
       "    <tr>\n",
       "      <th>35451</th>\n",
       "      <td>0</td>\n",
       "      <td>0</td>\n",
       "      <td>1</td>\n",
       "      <td>0</td>\n",
       "    </tr>\n",
       "    <tr>\n",
       "      <th>30592</th>\n",
       "      <td>0</td>\n",
       "      <td>0</td>\n",
       "      <td>1</td>\n",
       "      <td>1</td>\n",
       "    </tr>\n",
       "    <tr>\n",
       "      <th>17914</th>\n",
       "      <td>0</td>\n",
       "      <td>1</td>\n",
       "      <td>0</td>\n",
       "      <td>0</td>\n",
       "    </tr>\n",
       "    <tr>\n",
       "      <th>3315</th>\n",
       "      <td>0</td>\n",
       "      <td>0</td>\n",
       "      <td>1</td>\n",
       "      <td>0</td>\n",
       "    </tr>\n",
       "    <tr>\n",
       "      <th>...</th>\n",
       "      <td>...</td>\n",
       "      <td>...</td>\n",
       "      <td>...</td>\n",
       "      <td>...</td>\n",
       "    </tr>\n",
       "    <tr>\n",
       "      <th>6265</th>\n",
       "      <td>0</td>\n",
       "      <td>0</td>\n",
       "      <td>1</td>\n",
       "      <td>1</td>\n",
       "    </tr>\n",
       "    <tr>\n",
       "      <th>11284</th>\n",
       "      <td>0</td>\n",
       "      <td>1</td>\n",
       "      <td>0</td>\n",
       "      <td>1</td>\n",
       "    </tr>\n",
       "    <tr>\n",
       "      <th>38158</th>\n",
       "      <td>0</td>\n",
       "      <td>0</td>\n",
       "      <td>1</td>\n",
       "      <td>0</td>\n",
       "    </tr>\n",
       "    <tr>\n",
       "      <th>860</th>\n",
       "      <td>0</td>\n",
       "      <td>1</td>\n",
       "      <td>0</td>\n",
       "      <td>1</td>\n",
       "    </tr>\n",
       "    <tr>\n",
       "      <th>15795</th>\n",
       "      <td>0</td>\n",
       "      <td>0</td>\n",
       "      <td>1</td>\n",
       "      <td>0</td>\n",
       "    </tr>\n",
       "  </tbody>\n",
       "</table>\n",
       "<p>32950 rows × 4 columns</p>\n",
       "</div>"
      ],
      "text/plain": [
       "       job_0  job_1  job_2  job_3\n",
       "12556      0      0      0      1\n",
       "35451      0      0      1      0\n",
       "30592      0      0      1      1\n",
       "17914      0      1      0      0\n",
       "3315       0      0      1      0\n",
       "...      ...    ...    ...    ...\n",
       "6265       0      0      1      1\n",
       "11284      0      1      0      1\n",
       "38158      0      0      1      0\n",
       "860        0      1      0      1\n",
       "15795      0      0      1      0\n",
       "\n",
       "[32950 rows x 4 columns]"
      ]
     },
     "execution_count": 52,
     "metadata": {},
     "output_type": "execute_result"
    }
   ],
   "source": [
    "# Due to the nature of the variable, as well as context, it makes sense to use a binary encoder technique on this variable\n",
    "# It seems that there is no inherent order or hierarchy among the categories\n",
    "\n",
    "binary_encoder_job = BinaryEncoder(drop_invariant=True)\n",
    "\n",
    "#encode\n",
    "\n",
    "X_train_job_encoded = binary_encoder_job.fit_transform(X_train[['job']])\n",
    "X_test_job_encoded = binary_encoder_job.transform(X_test[['job']])\n",
    "\n",
    "X_train_job_encoded"
   ]
  },
  {
   "cell_type": "code",
   "execution_count": 53,
   "metadata": {},
   "outputs": [
    {
     "data": {
      "text/html": [
       "<div>\n",
       "<style scoped>\n",
       "    .dataframe tbody tr th:only-of-type {\n",
       "        vertical-align: middle;\n",
       "    }\n",
       "\n",
       "    .dataframe tbody tr th {\n",
       "        vertical-align: top;\n",
       "    }\n",
       "\n",
       "    .dataframe thead th {\n",
       "        text-align: right;\n",
       "    }\n",
       "</style>\n",
       "<table border=\"1\" class=\"dataframe\">\n",
       "  <thead>\n",
       "    <tr style=\"text-align: right;\">\n",
       "      <th></th>\n",
       "      <th>age</th>\n",
       "      <th>job</th>\n",
       "      <th>marital</th>\n",
       "      <th>education</th>\n",
       "      <th>default</th>\n",
       "      <th>pdays</th>\n",
       "      <th>previous</th>\n",
       "      <th>poutcome</th>\n",
       "      <th>cons.price.idx</th>\n",
       "      <th>cons.conf.idx</th>\n",
       "      <th>nr.employed</th>\n",
       "      <th>job_0</th>\n",
       "      <th>job_1</th>\n",
       "      <th>job_2</th>\n",
       "      <th>job_3</th>\n",
       "    </tr>\n",
       "  </thead>\n",
       "  <tbody>\n",
       "    <tr>\n",
       "      <th>12556</th>\n",
       "      <td>1.0</td>\n",
       "      <td>blue-collar</td>\n",
       "      <td>married</td>\n",
       "      <td>basic.9y</td>\n",
       "      <td>unknown</td>\n",
       "      <td>999</td>\n",
       "      <td>0</td>\n",
       "      <td>nonexistent</td>\n",
       "      <td>93.918</td>\n",
       "      <td>1.0</td>\n",
       "      <td>5228.1</td>\n",
       "      <td>0</td>\n",
       "      <td>0</td>\n",
       "      <td>0</td>\n",
       "      <td>1</td>\n",
       "    </tr>\n",
       "    <tr>\n",
       "      <th>35451</th>\n",
       "      <td>0.0</td>\n",
       "      <td>admin.</td>\n",
       "      <td>married</td>\n",
       "      <td>university.degree</td>\n",
       "      <td>no</td>\n",
       "      <td>999</td>\n",
       "      <td>0</td>\n",
       "      <td>nonexistent</td>\n",
       "      <td>92.893</td>\n",
       "      <td>0.0</td>\n",
       "      <td>5099.1</td>\n",
       "      <td>0</td>\n",
       "      <td>0</td>\n",
       "      <td>1</td>\n",
       "      <td>0</td>\n",
       "    </tr>\n",
       "    <tr>\n",
       "      <th>30592</th>\n",
       "      <td>2.0</td>\n",
       "      <td>retired</td>\n",
       "      <td>married</td>\n",
       "      <td>basic.4y</td>\n",
       "      <td>no</td>\n",
       "      <td>999</td>\n",
       "      <td>1</td>\n",
       "      <td>failure</td>\n",
       "      <td>92.893</td>\n",
       "      <td>0.0</td>\n",
       "      <td>5099.1</td>\n",
       "      <td>0</td>\n",
       "      <td>0</td>\n",
       "      <td>1</td>\n",
       "      <td>1</td>\n",
       "    </tr>\n",
       "    <tr>\n",
       "      <th>17914</th>\n",
       "      <td>1.0</td>\n",
       "      <td>housemaid</td>\n",
       "      <td>divorced</td>\n",
       "      <td>basic.9y</td>\n",
       "      <td>no</td>\n",
       "      <td>999</td>\n",
       "      <td>0</td>\n",
       "      <td>nonexistent</td>\n",
       "      <td>93.918</td>\n",
       "      <td>1.0</td>\n",
       "      <td>5228.1</td>\n",
       "      <td>0</td>\n",
       "      <td>1</td>\n",
       "      <td>0</td>\n",
       "      <td>0</td>\n",
       "    </tr>\n",
       "    <tr>\n",
       "      <th>3315</th>\n",
       "      <td>1.0</td>\n",
       "      <td>admin.</td>\n",
       "      <td>single</td>\n",
       "      <td>high.school</td>\n",
       "      <td>unknown</td>\n",
       "      <td>999</td>\n",
       "      <td>0</td>\n",
       "      <td>nonexistent</td>\n",
       "      <td>93.994</td>\n",
       "      <td>2.0</td>\n",
       "      <td>5191.0</td>\n",
       "      <td>0</td>\n",
       "      <td>0</td>\n",
       "      <td>1</td>\n",
       "      <td>0</td>\n",
       "    </tr>\n",
       "    <tr>\n",
       "      <th>...</th>\n",
       "      <td>...</td>\n",
       "      <td>...</td>\n",
       "      <td>...</td>\n",
       "      <td>...</td>\n",
       "      <td>...</td>\n",
       "      <td>...</td>\n",
       "      <td>...</td>\n",
       "      <td>...</td>\n",
       "      <td>...</td>\n",
       "      <td>...</td>\n",
       "      <td>...</td>\n",
       "      <td>...</td>\n",
       "      <td>...</td>\n",
       "      <td>...</td>\n",
       "      <td>...</td>\n",
       "    </tr>\n",
       "    <tr>\n",
       "      <th>6265</th>\n",
       "      <td>2.0</td>\n",
       "      <td>retired</td>\n",
       "      <td>married</td>\n",
       "      <td>professional.course</td>\n",
       "      <td>unknown</td>\n",
       "      <td>999</td>\n",
       "      <td>0</td>\n",
       "      <td>nonexistent</td>\n",
       "      <td>93.994</td>\n",
       "      <td>2.0</td>\n",
       "      <td>5191.0</td>\n",
       "      <td>0</td>\n",
       "      <td>0</td>\n",
       "      <td>1</td>\n",
       "      <td>1</td>\n",
       "    </tr>\n",
       "    <tr>\n",
       "      <th>11284</th>\n",
       "      <td>1.0</td>\n",
       "      <td>management</td>\n",
       "      <td>married</td>\n",
       "      <td>university.degree</td>\n",
       "      <td>no</td>\n",
       "      <td>999</td>\n",
       "      <td>0</td>\n",
       "      <td>nonexistent</td>\n",
       "      <td>94.465</td>\n",
       "      <td>1.0</td>\n",
       "      <td>5228.1</td>\n",
       "      <td>0</td>\n",
       "      <td>1</td>\n",
       "      <td>0</td>\n",
       "      <td>1</td>\n",
       "    </tr>\n",
       "    <tr>\n",
       "      <th>38158</th>\n",
       "      <td>1.0</td>\n",
       "      <td>admin.</td>\n",
       "      <td>married</td>\n",
       "      <td>high.school</td>\n",
       "      <td>no</td>\n",
       "      <td>4</td>\n",
       "      <td>1</td>\n",
       "      <td>success</td>\n",
       "      <td>92.431</td>\n",
       "      <td>2.0</td>\n",
       "      <td>5017.5</td>\n",
       "      <td>0</td>\n",
       "      <td>0</td>\n",
       "      <td>1</td>\n",
       "      <td>0</td>\n",
       "    </tr>\n",
       "    <tr>\n",
       "      <th>860</th>\n",
       "      <td>1.0</td>\n",
       "      <td>management</td>\n",
       "      <td>married</td>\n",
       "      <td>university.degree</td>\n",
       "      <td>no</td>\n",
       "      <td>999</td>\n",
       "      <td>0</td>\n",
       "      <td>nonexistent</td>\n",
       "      <td>93.994</td>\n",
       "      <td>2.0</td>\n",
       "      <td>5191.0</td>\n",
       "      <td>0</td>\n",
       "      <td>1</td>\n",
       "      <td>0</td>\n",
       "      <td>1</td>\n",
       "    </tr>\n",
       "    <tr>\n",
       "      <th>15795</th>\n",
       "      <td>0.0</td>\n",
       "      <td>admin.</td>\n",
       "      <td>single</td>\n",
       "      <td>university.degree</td>\n",
       "      <td>no</td>\n",
       "      <td>999</td>\n",
       "      <td>0</td>\n",
       "      <td>nonexistent</td>\n",
       "      <td>93.918</td>\n",
       "      <td>1.0</td>\n",
       "      <td>5228.1</td>\n",
       "      <td>0</td>\n",
       "      <td>0</td>\n",
       "      <td>1</td>\n",
       "      <td>0</td>\n",
       "    </tr>\n",
       "  </tbody>\n",
       "</table>\n",
       "<p>32950 rows × 15 columns</p>\n",
       "</div>"
      ],
      "text/plain": [
       "       age          job   marital            education  default  pdays  \\\n",
       "12556  1.0  blue-collar   married             basic.9y  unknown    999   \n",
       "35451  0.0       admin.   married    university.degree       no    999   \n",
       "30592  2.0      retired   married             basic.4y       no    999   \n",
       "17914  1.0    housemaid  divorced             basic.9y       no    999   \n",
       "3315   1.0       admin.    single          high.school  unknown    999   \n",
       "...    ...          ...       ...                  ...      ...    ...   \n",
       "6265   2.0      retired   married  professional.course  unknown    999   \n",
       "11284  1.0   management   married    university.degree       no    999   \n",
       "38158  1.0       admin.   married          high.school       no      4   \n",
       "860    1.0   management   married    university.degree       no    999   \n",
       "15795  0.0       admin.    single    university.degree       no    999   \n",
       "\n",
       "       previous     poutcome  cons.price.idx  cons.conf.idx  nr.employed  \\\n",
       "12556         0  nonexistent          93.918            1.0       5228.1   \n",
       "35451         0  nonexistent          92.893            0.0       5099.1   \n",
       "30592         1      failure          92.893            0.0       5099.1   \n",
       "17914         0  nonexistent          93.918            1.0       5228.1   \n",
       "3315          0  nonexistent          93.994            2.0       5191.0   \n",
       "...         ...          ...             ...            ...          ...   \n",
       "6265          0  nonexistent          93.994            2.0       5191.0   \n",
       "11284         0  nonexistent          94.465            1.0       5228.1   \n",
       "38158         1      success          92.431            2.0       5017.5   \n",
       "860           0  nonexistent          93.994            2.0       5191.0   \n",
       "15795         0  nonexistent          93.918            1.0       5228.1   \n",
       "\n",
       "       job_0  job_1  job_2  job_3  \n",
       "12556      0      0      0      1  \n",
       "35451      0      0      1      0  \n",
       "30592      0      0      1      1  \n",
       "17914      0      1      0      0  \n",
       "3315       0      0      1      0  \n",
       "...      ...    ...    ...    ...  \n",
       "6265       0      0      1      1  \n",
       "11284      0      1      0      1  \n",
       "38158      0      0      1      0  \n",
       "860        0      1      0      1  \n",
       "15795      0      0      1      0  \n",
       "\n",
       "[32950 rows x 15 columns]"
      ]
     },
     "execution_count": 53,
     "metadata": {},
     "output_type": "execute_result"
    }
   ],
   "source": [
    "# concat\n",
    "\n",
    "X_train = pd.concat([X_train, X_train_job_encoded], axis=1)\n",
    "X_test = pd.concat([X_test, X_test_job_encoded], axis=1)\n",
    "\n",
    "X_train"
   ]
  },
  {
   "cell_type": "code",
   "execution_count": 54,
   "metadata": {},
   "outputs": [],
   "source": [
    "# Drop na variável `job`\n",
    "\n",
    "X_train.drop('job', axis = 1, inplace = True)\n",
    "\n",
    "X_test.drop('job', axis = 1, inplace = True)"
   ]
  },
  {
   "cell_type": "markdown",
   "metadata": {
    "tags": []
   },
   "source": [
    "### b) `marital`"
   ]
  },
  {
   "cell_type": "code",
   "execution_count": 55,
   "metadata": {},
   "outputs": [
    {
     "data": {
      "text/html": [
       "<div>\n",
       "<style scoped>\n",
       "    .dataframe tbody tr th:only-of-type {\n",
       "        vertical-align: middle;\n",
       "    }\n",
       "\n",
       "    .dataframe tbody tr th {\n",
       "        vertical-align: top;\n",
       "    }\n",
       "\n",
       "    .dataframe thead th {\n",
       "        text-align: right;\n",
       "    }\n",
       "</style>\n",
       "<table border=\"1\" class=\"dataframe\">\n",
       "  <thead>\n",
       "    <tr style=\"text-align: right;\">\n",
       "      <th></th>\n",
       "      <th>marital_married</th>\n",
       "      <th>marital_divorced</th>\n",
       "      <th>marital_single</th>\n",
       "      <th>marital_unknown</th>\n",
       "    </tr>\n",
       "  </thead>\n",
       "  <tbody>\n",
       "    <tr>\n",
       "      <th>12556</th>\n",
       "      <td>1</td>\n",
       "      <td>0</td>\n",
       "      <td>0</td>\n",
       "      <td>0</td>\n",
       "    </tr>\n",
       "    <tr>\n",
       "      <th>35451</th>\n",
       "      <td>1</td>\n",
       "      <td>0</td>\n",
       "      <td>0</td>\n",
       "      <td>0</td>\n",
       "    </tr>\n",
       "    <tr>\n",
       "      <th>30592</th>\n",
       "      <td>1</td>\n",
       "      <td>0</td>\n",
       "      <td>0</td>\n",
       "      <td>0</td>\n",
       "    </tr>\n",
       "    <tr>\n",
       "      <th>17914</th>\n",
       "      <td>0</td>\n",
       "      <td>1</td>\n",
       "      <td>0</td>\n",
       "      <td>0</td>\n",
       "    </tr>\n",
       "    <tr>\n",
       "      <th>3315</th>\n",
       "      <td>0</td>\n",
       "      <td>0</td>\n",
       "      <td>1</td>\n",
       "      <td>0</td>\n",
       "    </tr>\n",
       "    <tr>\n",
       "      <th>...</th>\n",
       "      <td>...</td>\n",
       "      <td>...</td>\n",
       "      <td>...</td>\n",
       "      <td>...</td>\n",
       "    </tr>\n",
       "    <tr>\n",
       "      <th>6265</th>\n",
       "      <td>1</td>\n",
       "      <td>0</td>\n",
       "      <td>0</td>\n",
       "      <td>0</td>\n",
       "    </tr>\n",
       "    <tr>\n",
       "      <th>11284</th>\n",
       "      <td>1</td>\n",
       "      <td>0</td>\n",
       "      <td>0</td>\n",
       "      <td>0</td>\n",
       "    </tr>\n",
       "    <tr>\n",
       "      <th>38158</th>\n",
       "      <td>1</td>\n",
       "      <td>0</td>\n",
       "      <td>0</td>\n",
       "      <td>0</td>\n",
       "    </tr>\n",
       "    <tr>\n",
       "      <th>860</th>\n",
       "      <td>1</td>\n",
       "      <td>0</td>\n",
       "      <td>0</td>\n",
       "      <td>0</td>\n",
       "    </tr>\n",
       "    <tr>\n",
       "      <th>15795</th>\n",
       "      <td>0</td>\n",
       "      <td>0</td>\n",
       "      <td>1</td>\n",
       "      <td>0</td>\n",
       "    </tr>\n",
       "  </tbody>\n",
       "</table>\n",
       "<p>32950 rows × 4 columns</p>\n",
       "</div>"
      ],
      "text/plain": [
       "       marital_married  marital_divorced  marital_single  marital_unknown\n",
       "12556                1                 0               0                0\n",
       "35451                1                 0               0                0\n",
       "30592                1                 0               0                0\n",
       "17914                0                 1               0                0\n",
       "3315                 0                 0               1                0\n",
       "...                ...               ...             ...              ...\n",
       "6265                 1                 0               0                0\n",
       "11284                1                 0               0                0\n",
       "38158                1                 0               0                0\n",
       "860                  1                 0               0                0\n",
       "15795                0                 0               1                0\n",
       "\n",
       "[32950 rows x 4 columns]"
      ]
     },
     "execution_count": 55,
     "metadata": {},
     "output_type": "execute_result"
    }
   ],
   "source": [
    "# Taking into account the context of the `marital` variable, let's apply the OHE technique\n",
    "# It seems that there is no inherent order or hierarchy among the categories\n",
    "\n",
    "ohe_encoder_marital = OHE(use_cat_names=True)\n",
    "\n",
    "X_train_marital_encoded = ohe_encoder_marital.fit_transform(X_train[['marital']])\n",
    "X_test_marital_encoded = ohe_encoder_marital.transform(X_test[['marital']])\n",
    "\n",
    "X_train_marital_encoded"
   ]
  },
  {
   "cell_type": "code",
   "execution_count": 56,
   "metadata": {},
   "outputs": [
    {
     "data": {
      "text/plain": [
       "married     19823\n",
       "single       9333\n",
       "divorced     3733\n",
       "unknown        61\n",
       "Name: marital, dtype: int64"
      ]
     },
     "execution_count": 56,
     "metadata": {},
     "output_type": "execute_result"
    }
   ],
   "source": [
    "X_train['marital'].value_counts()"
   ]
  },
  {
   "cell_type": "code",
   "execution_count": 57,
   "metadata": {},
   "outputs": [
    {
     "data": {
      "text/html": [
       "<div>\n",
       "<style scoped>\n",
       "    .dataframe tbody tr th:only-of-type {\n",
       "        vertical-align: middle;\n",
       "    }\n",
       "\n",
       "    .dataframe tbody tr th {\n",
       "        vertical-align: top;\n",
       "    }\n",
       "\n",
       "    .dataframe thead th {\n",
       "        text-align: right;\n",
       "    }\n",
       "</style>\n",
       "<table border=\"1\" class=\"dataframe\">\n",
       "  <thead>\n",
       "    <tr style=\"text-align: right;\">\n",
       "      <th></th>\n",
       "      <th>marital</th>\n",
       "      <th>marital_married</th>\n",
       "      <th>marital_divorced</th>\n",
       "      <th>marital_single</th>\n",
       "      <th>marital_unknown</th>\n",
       "    </tr>\n",
       "  </thead>\n",
       "  <tbody>\n",
       "    <tr>\n",
       "      <th>12556</th>\n",
       "      <td>married</td>\n",
       "      <td>1</td>\n",
       "      <td>0</td>\n",
       "      <td>0</td>\n",
       "      <td>0</td>\n",
       "    </tr>\n",
       "    <tr>\n",
       "      <th>35451</th>\n",
       "      <td>married</td>\n",
       "      <td>1</td>\n",
       "      <td>0</td>\n",
       "      <td>0</td>\n",
       "      <td>0</td>\n",
       "    </tr>\n",
       "    <tr>\n",
       "      <th>30592</th>\n",
       "      <td>married</td>\n",
       "      <td>1</td>\n",
       "      <td>0</td>\n",
       "      <td>0</td>\n",
       "      <td>0</td>\n",
       "    </tr>\n",
       "    <tr>\n",
       "      <th>17914</th>\n",
       "      <td>divorced</td>\n",
       "      <td>0</td>\n",
       "      <td>1</td>\n",
       "      <td>0</td>\n",
       "      <td>0</td>\n",
       "    </tr>\n",
       "    <tr>\n",
       "      <th>3315</th>\n",
       "      <td>single</td>\n",
       "      <td>0</td>\n",
       "      <td>0</td>\n",
       "      <td>1</td>\n",
       "      <td>0</td>\n",
       "    </tr>\n",
       "    <tr>\n",
       "      <th>...</th>\n",
       "      <td>...</td>\n",
       "      <td>...</td>\n",
       "      <td>...</td>\n",
       "      <td>...</td>\n",
       "      <td>...</td>\n",
       "    </tr>\n",
       "    <tr>\n",
       "      <th>6265</th>\n",
       "      <td>married</td>\n",
       "      <td>1</td>\n",
       "      <td>0</td>\n",
       "      <td>0</td>\n",
       "      <td>0</td>\n",
       "    </tr>\n",
       "    <tr>\n",
       "      <th>11284</th>\n",
       "      <td>married</td>\n",
       "      <td>1</td>\n",
       "      <td>0</td>\n",
       "      <td>0</td>\n",
       "      <td>0</td>\n",
       "    </tr>\n",
       "    <tr>\n",
       "      <th>38158</th>\n",
       "      <td>married</td>\n",
       "      <td>1</td>\n",
       "      <td>0</td>\n",
       "      <td>0</td>\n",
       "      <td>0</td>\n",
       "    </tr>\n",
       "    <tr>\n",
       "      <th>860</th>\n",
       "      <td>married</td>\n",
       "      <td>1</td>\n",
       "      <td>0</td>\n",
       "      <td>0</td>\n",
       "      <td>0</td>\n",
       "    </tr>\n",
       "    <tr>\n",
       "      <th>15795</th>\n",
       "      <td>single</td>\n",
       "      <td>0</td>\n",
       "      <td>0</td>\n",
       "      <td>1</td>\n",
       "      <td>0</td>\n",
       "    </tr>\n",
       "  </tbody>\n",
       "</table>\n",
       "<p>32950 rows × 5 columns</p>\n",
       "</div>"
      ],
      "text/plain": [
       "        marital  marital_married  marital_divorced  marital_single  \\\n",
       "12556   married                1                 0               0   \n",
       "35451   married                1                 0               0   \n",
       "30592   married                1                 0               0   \n",
       "17914  divorced                0                 1               0   \n",
       "3315     single                0                 0               1   \n",
       "...         ...              ...               ...             ...   \n",
       "6265    married                1                 0               0   \n",
       "11284   married                1                 0               0   \n",
       "38158   married                1                 0               0   \n",
       "860     married                1                 0               0   \n",
       "15795    single                0                 0               1   \n",
       "\n",
       "       marital_unknown  \n",
       "12556                0  \n",
       "35451                0  \n",
       "30592                0  \n",
       "17914                0  \n",
       "3315                 0  \n",
       "...                ...  \n",
       "6265                 0  \n",
       "11284                0  \n",
       "38158                0  \n",
       "860                  0  \n",
       "15795                0  \n",
       "\n",
       "[32950 rows x 5 columns]"
      ]
     },
     "execution_count": 57,
     "metadata": {},
     "output_type": "execute_result"
    }
   ],
   "source": [
    "marital = pd.concat([X_train[['marital']], X_train_marital_encoded ], axis=1)\n",
    "marital"
   ]
  },
  {
   "cell_type": "code",
   "execution_count": 58,
   "metadata": {},
   "outputs": [
    {
     "data": {
      "text/html": [
       "<div>\n",
       "<style scoped>\n",
       "    .dataframe tbody tr th:only-of-type {\n",
       "        vertical-align: middle;\n",
       "    }\n",
       "\n",
       "    .dataframe tbody tr th {\n",
       "        vertical-align: top;\n",
       "    }\n",
       "\n",
       "    .dataframe thead th {\n",
       "        text-align: right;\n",
       "    }\n",
       "</style>\n",
       "<table border=\"1\" class=\"dataframe\">\n",
       "  <thead>\n",
       "    <tr style=\"text-align: right;\">\n",
       "      <th></th>\n",
       "      <th>age</th>\n",
       "      <th>marital</th>\n",
       "      <th>education</th>\n",
       "      <th>default</th>\n",
       "      <th>pdays</th>\n",
       "      <th>previous</th>\n",
       "      <th>poutcome</th>\n",
       "      <th>cons.price.idx</th>\n",
       "      <th>cons.conf.idx</th>\n",
       "      <th>nr.employed</th>\n",
       "      <th>job_0</th>\n",
       "      <th>job_1</th>\n",
       "      <th>job_2</th>\n",
       "      <th>job_3</th>\n",
       "      <th>marital_married</th>\n",
       "      <th>marital_divorced</th>\n",
       "      <th>marital_single</th>\n",
       "      <th>marital_unknown</th>\n",
       "    </tr>\n",
       "  </thead>\n",
       "  <tbody>\n",
       "    <tr>\n",
       "      <th>12556</th>\n",
       "      <td>1.0</td>\n",
       "      <td>married</td>\n",
       "      <td>basic.9y</td>\n",
       "      <td>unknown</td>\n",
       "      <td>999</td>\n",
       "      <td>0</td>\n",
       "      <td>nonexistent</td>\n",
       "      <td>93.918</td>\n",
       "      <td>1.0</td>\n",
       "      <td>5228.1</td>\n",
       "      <td>0</td>\n",
       "      <td>0</td>\n",
       "      <td>0</td>\n",
       "      <td>1</td>\n",
       "      <td>1</td>\n",
       "      <td>0</td>\n",
       "      <td>0</td>\n",
       "      <td>0</td>\n",
       "    </tr>\n",
       "    <tr>\n",
       "      <th>35451</th>\n",
       "      <td>0.0</td>\n",
       "      <td>married</td>\n",
       "      <td>university.degree</td>\n",
       "      <td>no</td>\n",
       "      <td>999</td>\n",
       "      <td>0</td>\n",
       "      <td>nonexistent</td>\n",
       "      <td>92.893</td>\n",
       "      <td>0.0</td>\n",
       "      <td>5099.1</td>\n",
       "      <td>0</td>\n",
       "      <td>0</td>\n",
       "      <td>1</td>\n",
       "      <td>0</td>\n",
       "      <td>1</td>\n",
       "      <td>0</td>\n",
       "      <td>0</td>\n",
       "      <td>0</td>\n",
       "    </tr>\n",
       "    <tr>\n",
       "      <th>30592</th>\n",
       "      <td>2.0</td>\n",
       "      <td>married</td>\n",
       "      <td>basic.4y</td>\n",
       "      <td>no</td>\n",
       "      <td>999</td>\n",
       "      <td>1</td>\n",
       "      <td>failure</td>\n",
       "      <td>92.893</td>\n",
       "      <td>0.0</td>\n",
       "      <td>5099.1</td>\n",
       "      <td>0</td>\n",
       "      <td>0</td>\n",
       "      <td>1</td>\n",
       "      <td>1</td>\n",
       "      <td>1</td>\n",
       "      <td>0</td>\n",
       "      <td>0</td>\n",
       "      <td>0</td>\n",
       "    </tr>\n",
       "    <tr>\n",
       "      <th>17914</th>\n",
       "      <td>1.0</td>\n",
       "      <td>divorced</td>\n",
       "      <td>basic.9y</td>\n",
       "      <td>no</td>\n",
       "      <td>999</td>\n",
       "      <td>0</td>\n",
       "      <td>nonexistent</td>\n",
       "      <td>93.918</td>\n",
       "      <td>1.0</td>\n",
       "      <td>5228.1</td>\n",
       "      <td>0</td>\n",
       "      <td>1</td>\n",
       "      <td>0</td>\n",
       "      <td>0</td>\n",
       "      <td>0</td>\n",
       "      <td>1</td>\n",
       "      <td>0</td>\n",
       "      <td>0</td>\n",
       "    </tr>\n",
       "    <tr>\n",
       "      <th>3315</th>\n",
       "      <td>1.0</td>\n",
       "      <td>single</td>\n",
       "      <td>high.school</td>\n",
       "      <td>unknown</td>\n",
       "      <td>999</td>\n",
       "      <td>0</td>\n",
       "      <td>nonexistent</td>\n",
       "      <td>93.994</td>\n",
       "      <td>2.0</td>\n",
       "      <td>5191.0</td>\n",
       "      <td>0</td>\n",
       "      <td>0</td>\n",
       "      <td>1</td>\n",
       "      <td>0</td>\n",
       "      <td>0</td>\n",
       "      <td>0</td>\n",
       "      <td>1</td>\n",
       "      <td>0</td>\n",
       "    </tr>\n",
       "    <tr>\n",
       "      <th>...</th>\n",
       "      <td>...</td>\n",
       "      <td>...</td>\n",
       "      <td>...</td>\n",
       "      <td>...</td>\n",
       "      <td>...</td>\n",
       "      <td>...</td>\n",
       "      <td>...</td>\n",
       "      <td>...</td>\n",
       "      <td>...</td>\n",
       "      <td>...</td>\n",
       "      <td>...</td>\n",
       "      <td>...</td>\n",
       "      <td>...</td>\n",
       "      <td>...</td>\n",
       "      <td>...</td>\n",
       "      <td>...</td>\n",
       "      <td>...</td>\n",
       "      <td>...</td>\n",
       "    </tr>\n",
       "    <tr>\n",
       "      <th>6265</th>\n",
       "      <td>2.0</td>\n",
       "      <td>married</td>\n",
       "      <td>professional.course</td>\n",
       "      <td>unknown</td>\n",
       "      <td>999</td>\n",
       "      <td>0</td>\n",
       "      <td>nonexistent</td>\n",
       "      <td>93.994</td>\n",
       "      <td>2.0</td>\n",
       "      <td>5191.0</td>\n",
       "      <td>0</td>\n",
       "      <td>0</td>\n",
       "      <td>1</td>\n",
       "      <td>1</td>\n",
       "      <td>1</td>\n",
       "      <td>0</td>\n",
       "      <td>0</td>\n",
       "      <td>0</td>\n",
       "    </tr>\n",
       "    <tr>\n",
       "      <th>11284</th>\n",
       "      <td>1.0</td>\n",
       "      <td>married</td>\n",
       "      <td>university.degree</td>\n",
       "      <td>no</td>\n",
       "      <td>999</td>\n",
       "      <td>0</td>\n",
       "      <td>nonexistent</td>\n",
       "      <td>94.465</td>\n",
       "      <td>1.0</td>\n",
       "      <td>5228.1</td>\n",
       "      <td>0</td>\n",
       "      <td>1</td>\n",
       "      <td>0</td>\n",
       "      <td>1</td>\n",
       "      <td>1</td>\n",
       "      <td>0</td>\n",
       "      <td>0</td>\n",
       "      <td>0</td>\n",
       "    </tr>\n",
       "    <tr>\n",
       "      <th>38158</th>\n",
       "      <td>1.0</td>\n",
       "      <td>married</td>\n",
       "      <td>high.school</td>\n",
       "      <td>no</td>\n",
       "      <td>4</td>\n",
       "      <td>1</td>\n",
       "      <td>success</td>\n",
       "      <td>92.431</td>\n",
       "      <td>2.0</td>\n",
       "      <td>5017.5</td>\n",
       "      <td>0</td>\n",
       "      <td>0</td>\n",
       "      <td>1</td>\n",
       "      <td>0</td>\n",
       "      <td>1</td>\n",
       "      <td>0</td>\n",
       "      <td>0</td>\n",
       "      <td>0</td>\n",
       "    </tr>\n",
       "    <tr>\n",
       "      <th>860</th>\n",
       "      <td>1.0</td>\n",
       "      <td>married</td>\n",
       "      <td>university.degree</td>\n",
       "      <td>no</td>\n",
       "      <td>999</td>\n",
       "      <td>0</td>\n",
       "      <td>nonexistent</td>\n",
       "      <td>93.994</td>\n",
       "      <td>2.0</td>\n",
       "      <td>5191.0</td>\n",
       "      <td>0</td>\n",
       "      <td>1</td>\n",
       "      <td>0</td>\n",
       "      <td>1</td>\n",
       "      <td>1</td>\n",
       "      <td>0</td>\n",
       "      <td>0</td>\n",
       "      <td>0</td>\n",
       "    </tr>\n",
       "    <tr>\n",
       "      <th>15795</th>\n",
       "      <td>0.0</td>\n",
       "      <td>single</td>\n",
       "      <td>university.degree</td>\n",
       "      <td>no</td>\n",
       "      <td>999</td>\n",
       "      <td>0</td>\n",
       "      <td>nonexistent</td>\n",
       "      <td>93.918</td>\n",
       "      <td>1.0</td>\n",
       "      <td>5228.1</td>\n",
       "      <td>0</td>\n",
       "      <td>0</td>\n",
       "      <td>1</td>\n",
       "      <td>0</td>\n",
       "      <td>0</td>\n",
       "      <td>0</td>\n",
       "      <td>1</td>\n",
       "      <td>0</td>\n",
       "    </tr>\n",
       "  </tbody>\n",
       "</table>\n",
       "<p>32950 rows × 18 columns</p>\n",
       "</div>"
      ],
      "text/plain": [
       "       age   marital            education  default  pdays  previous  \\\n",
       "12556  1.0   married             basic.9y  unknown    999         0   \n",
       "35451  0.0   married    university.degree       no    999         0   \n",
       "30592  2.0   married             basic.4y       no    999         1   \n",
       "17914  1.0  divorced             basic.9y       no    999         0   \n",
       "3315   1.0    single          high.school  unknown    999         0   \n",
       "...    ...       ...                  ...      ...    ...       ...   \n",
       "6265   2.0   married  professional.course  unknown    999         0   \n",
       "11284  1.0   married    university.degree       no    999         0   \n",
       "38158  1.0   married          high.school       no      4         1   \n",
       "860    1.0   married    university.degree       no    999         0   \n",
       "15795  0.0    single    university.degree       no    999         0   \n",
       "\n",
       "          poutcome  cons.price.idx  cons.conf.idx  nr.employed  job_0  job_1  \\\n",
       "12556  nonexistent          93.918            1.0       5228.1      0      0   \n",
       "35451  nonexistent          92.893            0.0       5099.1      0      0   \n",
       "30592      failure          92.893            0.0       5099.1      0      0   \n",
       "17914  nonexistent          93.918            1.0       5228.1      0      1   \n",
       "3315   nonexistent          93.994            2.0       5191.0      0      0   \n",
       "...            ...             ...            ...          ...    ...    ...   \n",
       "6265   nonexistent          93.994            2.0       5191.0      0      0   \n",
       "11284  nonexistent          94.465            1.0       5228.1      0      1   \n",
       "38158      success          92.431            2.0       5017.5      0      0   \n",
       "860    nonexistent          93.994            2.0       5191.0      0      1   \n",
       "15795  nonexistent          93.918            1.0       5228.1      0      0   \n",
       "\n",
       "       job_2  job_3  marital_married  marital_divorced  marital_single  \\\n",
       "12556      0      1                1                 0               0   \n",
       "35451      1      0                1                 0               0   \n",
       "30592      1      1                1                 0               0   \n",
       "17914      0      0                0                 1               0   \n",
       "3315       1      0                0                 0               1   \n",
       "...      ...    ...              ...               ...             ...   \n",
       "6265       1      1                1                 0               0   \n",
       "11284      0      1                1                 0               0   \n",
       "38158      1      0                1                 0               0   \n",
       "860        0      1                1                 0               0   \n",
       "15795      1      0                0                 0               1   \n",
       "\n",
       "       marital_unknown  \n",
       "12556                0  \n",
       "35451                0  \n",
       "30592                0  \n",
       "17914                0  \n",
       "3315                 0  \n",
       "...                ...  \n",
       "6265                 0  \n",
       "11284                0  \n",
       "38158                0  \n",
       "860                  0  \n",
       "15795                0  \n",
       "\n",
       "[32950 rows x 18 columns]"
      ]
     },
     "execution_count": 58,
     "metadata": {},
     "output_type": "execute_result"
    }
   ],
   "source": [
    "X_train = pd.concat([X_train, X_train_marital_encoded], axis=1)\n",
    "X_test = pd.concat([X_test, X_test_marital_encoded], axis=1)\n",
    "\n",
    "X_train"
   ]
  },
  {
   "cell_type": "code",
   "execution_count": 59,
   "metadata": {},
   "outputs": [],
   "source": [
    "# Drop na variável `marital`\n",
    "\n",
    "X_train.drop('marital', axis = 1, inplace = True)\n",
    "\n",
    "X_test.drop('marital', axis = 1, inplace = True)"
   ]
  },
  {
   "cell_type": "markdown",
   "metadata": {
    "tags": []
   },
   "source": [
    "### c) `education`"
   ]
  },
  {
   "cell_type": "code",
   "execution_count": 60,
   "metadata": {},
   "outputs": [
    {
     "data": {
      "text/html": [
       "<div>\n",
       "<style scoped>\n",
       "    .dataframe tbody tr th:only-of-type {\n",
       "        vertical-align: middle;\n",
       "    }\n",
       "\n",
       "    .dataframe tbody tr th {\n",
       "        vertical-align: top;\n",
       "    }\n",
       "\n",
       "    .dataframe thead th {\n",
       "        text-align: right;\n",
       "    }\n",
       "</style>\n",
       "<table border=\"1\" class=\"dataframe\">\n",
       "  <thead>\n",
       "    <tr style=\"text-align: right;\">\n",
       "      <th></th>\n",
       "      <th>education</th>\n",
       "    </tr>\n",
       "  </thead>\n",
       "  <tbody>\n",
       "    <tr>\n",
       "      <th>university.degree</th>\n",
       "      <td>9750</td>\n",
       "    </tr>\n",
       "    <tr>\n",
       "      <th>high.school</th>\n",
       "      <td>7614</td>\n",
       "    </tr>\n",
       "    <tr>\n",
       "      <th>basic.9y</th>\n",
       "      <td>4808</td>\n",
       "    </tr>\n",
       "    <tr>\n",
       "      <th>professional.course</th>\n",
       "      <td>4176</td>\n",
       "    </tr>\n",
       "    <tr>\n",
       "      <th>basic.4y</th>\n",
       "      <td>3338</td>\n",
       "    </tr>\n",
       "    <tr>\n",
       "      <th>basic.6y</th>\n",
       "      <td>1852</td>\n",
       "    </tr>\n",
       "    <tr>\n",
       "      <th>unknown</th>\n",
       "      <td>1399</td>\n",
       "    </tr>\n",
       "    <tr>\n",
       "      <th>illiterate</th>\n",
       "      <td>13</td>\n",
       "    </tr>\n",
       "  </tbody>\n",
       "</table>\n",
       "</div>"
      ],
      "text/plain": [
       "                     education\n",
       "university.degree         9750\n",
       "high.school               7614\n",
       "basic.9y                  4808\n",
       "professional.course       4176\n",
       "basic.4y                  3338\n",
       "basic.6y                  1852\n",
       "unknown                   1399\n",
       "illiterate                  13"
      ]
     },
     "execution_count": 60,
     "metadata": {},
     "output_type": "execute_result"
    }
   ],
   "source": [
    "X_train['education'].value_counts().to_frame()"
   ]
  },
  {
   "cell_type": "code",
   "execution_count": 61,
   "metadata": {},
   "outputs": [
    {
     "data": {
      "text/html": [
       "<div>\n",
       "<style scoped>\n",
       "    .dataframe tbody tr th:only-of-type {\n",
       "        vertical-align: middle;\n",
       "    }\n",
       "\n",
       "    .dataframe tbody tr th {\n",
       "        vertical-align: top;\n",
       "    }\n",
       "\n",
       "    .dataframe thead th {\n",
       "        text-align: right;\n",
       "    }\n",
       "</style>\n",
       "<table border=\"1\" class=\"dataframe\">\n",
       "  <thead>\n",
       "    <tr style=\"text-align: right;\">\n",
       "      <th></th>\n",
       "      <th>education_basic.9y</th>\n",
       "      <th>education_university.degree</th>\n",
       "      <th>education_basic.4y</th>\n",
       "      <th>education_high.school</th>\n",
       "      <th>education_professional.course</th>\n",
       "      <th>education_basic.6y</th>\n",
       "      <th>education_unknown</th>\n",
       "      <th>education_illiterate</th>\n",
       "    </tr>\n",
       "  </thead>\n",
       "  <tbody>\n",
       "    <tr>\n",
       "      <th>12556</th>\n",
       "      <td>1</td>\n",
       "      <td>0</td>\n",
       "      <td>0</td>\n",
       "      <td>0</td>\n",
       "      <td>0</td>\n",
       "      <td>0</td>\n",
       "      <td>0</td>\n",
       "      <td>0</td>\n",
       "    </tr>\n",
       "    <tr>\n",
       "      <th>35451</th>\n",
       "      <td>0</td>\n",
       "      <td>1</td>\n",
       "      <td>0</td>\n",
       "      <td>0</td>\n",
       "      <td>0</td>\n",
       "      <td>0</td>\n",
       "      <td>0</td>\n",
       "      <td>0</td>\n",
       "    </tr>\n",
       "    <tr>\n",
       "      <th>30592</th>\n",
       "      <td>0</td>\n",
       "      <td>0</td>\n",
       "      <td>1</td>\n",
       "      <td>0</td>\n",
       "      <td>0</td>\n",
       "      <td>0</td>\n",
       "      <td>0</td>\n",
       "      <td>0</td>\n",
       "    </tr>\n",
       "    <tr>\n",
       "      <th>17914</th>\n",
       "      <td>1</td>\n",
       "      <td>0</td>\n",
       "      <td>0</td>\n",
       "      <td>0</td>\n",
       "      <td>0</td>\n",
       "      <td>0</td>\n",
       "      <td>0</td>\n",
       "      <td>0</td>\n",
       "    </tr>\n",
       "    <tr>\n",
       "      <th>3315</th>\n",
       "      <td>0</td>\n",
       "      <td>0</td>\n",
       "      <td>0</td>\n",
       "      <td>1</td>\n",
       "      <td>0</td>\n",
       "      <td>0</td>\n",
       "      <td>0</td>\n",
       "      <td>0</td>\n",
       "    </tr>\n",
       "  </tbody>\n",
       "</table>\n",
       "</div>"
      ],
      "text/plain": [
       "       education_basic.9y  education_university.degree  education_basic.4y  \\\n",
       "12556                   1                            0                   0   \n",
       "35451                   0                            1                   0   \n",
       "30592                   0                            0                   1   \n",
       "17914                   1                            0                   0   \n",
       "3315                    0                            0                   0   \n",
       "\n",
       "       education_high.school  education_professional.course  \\\n",
       "12556                      0                              0   \n",
       "35451                      0                              0   \n",
       "30592                      0                              0   \n",
       "17914                      0                              0   \n",
       "3315                       1                              0   \n",
       "\n",
       "       education_basic.6y  education_unknown  education_illiterate  \n",
       "12556                   0                  0                     0  \n",
       "35451                   0                  0                     0  \n",
       "30592                   0                  0                     0  \n",
       "17914                   0                  0                     0  \n",
       "3315                    0                  0                     0  "
      ]
     },
     "execution_count": 61,
     "metadata": {},
     "output_type": "execute_result"
    }
   ],
   "source": [
    "# Due to the nature of the variable, as well as context, it makes sense to use OHE on this variable\n",
    "# althought it seems that there is an inherent order or hierarchy among the categories, by applying OHE our models have a better performace than using ordinal encoding \n",
    "\n",
    "ohe_encoder_education = OHE(use_cat_names=True)\n",
    "\n",
    "#encode\n",
    "\n",
    "X_train_education_encoded = ohe_encoder_education.fit_transform(X_train[['education']])\n",
    "X_test_education_encoded = ohe_encoder_education.transform(X_test[['education']])\n",
    "\n",
    "X_train_education_encoded.head()"
   ]
  },
  {
   "cell_type": "code",
   "execution_count": 62,
   "metadata": {},
   "outputs": [
    {
     "data": {
      "text/html": [
       "<div>\n",
       "<style scoped>\n",
       "    .dataframe tbody tr th:only-of-type {\n",
       "        vertical-align: middle;\n",
       "    }\n",
       "\n",
       "    .dataframe tbody tr th {\n",
       "        vertical-align: top;\n",
       "    }\n",
       "\n",
       "    .dataframe thead th {\n",
       "        text-align: right;\n",
       "    }\n",
       "</style>\n",
       "<table border=\"1\" class=\"dataframe\">\n",
       "  <thead>\n",
       "    <tr style=\"text-align: right;\">\n",
       "      <th></th>\n",
       "      <th>age</th>\n",
       "      <th>education</th>\n",
       "      <th>default</th>\n",
       "      <th>pdays</th>\n",
       "      <th>previous</th>\n",
       "      <th>poutcome</th>\n",
       "      <th>cons.price.idx</th>\n",
       "      <th>cons.conf.idx</th>\n",
       "      <th>nr.employed</th>\n",
       "      <th>job_0</th>\n",
       "      <th>...</th>\n",
       "      <th>marital_single</th>\n",
       "      <th>marital_unknown</th>\n",
       "      <th>education_basic.9y</th>\n",
       "      <th>education_university.degree</th>\n",
       "      <th>education_basic.4y</th>\n",
       "      <th>education_high.school</th>\n",
       "      <th>education_professional.course</th>\n",
       "      <th>education_basic.6y</th>\n",
       "      <th>education_unknown</th>\n",
       "      <th>education_illiterate</th>\n",
       "    </tr>\n",
       "  </thead>\n",
       "  <tbody>\n",
       "    <tr>\n",
       "      <th>12556</th>\n",
       "      <td>1.0</td>\n",
       "      <td>basic.9y</td>\n",
       "      <td>unknown</td>\n",
       "      <td>999</td>\n",
       "      <td>0</td>\n",
       "      <td>nonexistent</td>\n",
       "      <td>93.918</td>\n",
       "      <td>1.0</td>\n",
       "      <td>5228.1</td>\n",
       "      <td>0</td>\n",
       "      <td>...</td>\n",
       "      <td>0</td>\n",
       "      <td>0</td>\n",
       "      <td>1</td>\n",
       "      <td>0</td>\n",
       "      <td>0</td>\n",
       "      <td>0</td>\n",
       "      <td>0</td>\n",
       "      <td>0</td>\n",
       "      <td>0</td>\n",
       "      <td>0</td>\n",
       "    </tr>\n",
       "    <tr>\n",
       "      <th>35451</th>\n",
       "      <td>0.0</td>\n",
       "      <td>university.degree</td>\n",
       "      <td>no</td>\n",
       "      <td>999</td>\n",
       "      <td>0</td>\n",
       "      <td>nonexistent</td>\n",
       "      <td>92.893</td>\n",
       "      <td>0.0</td>\n",
       "      <td>5099.1</td>\n",
       "      <td>0</td>\n",
       "      <td>...</td>\n",
       "      <td>0</td>\n",
       "      <td>0</td>\n",
       "      <td>0</td>\n",
       "      <td>1</td>\n",
       "      <td>0</td>\n",
       "      <td>0</td>\n",
       "      <td>0</td>\n",
       "      <td>0</td>\n",
       "      <td>0</td>\n",
       "      <td>0</td>\n",
       "    </tr>\n",
       "    <tr>\n",
       "      <th>30592</th>\n",
       "      <td>2.0</td>\n",
       "      <td>basic.4y</td>\n",
       "      <td>no</td>\n",
       "      <td>999</td>\n",
       "      <td>1</td>\n",
       "      <td>failure</td>\n",
       "      <td>92.893</td>\n",
       "      <td>0.0</td>\n",
       "      <td>5099.1</td>\n",
       "      <td>0</td>\n",
       "      <td>...</td>\n",
       "      <td>0</td>\n",
       "      <td>0</td>\n",
       "      <td>0</td>\n",
       "      <td>0</td>\n",
       "      <td>1</td>\n",
       "      <td>0</td>\n",
       "      <td>0</td>\n",
       "      <td>0</td>\n",
       "      <td>0</td>\n",
       "      <td>0</td>\n",
       "    </tr>\n",
       "    <tr>\n",
       "      <th>17914</th>\n",
       "      <td>1.0</td>\n",
       "      <td>basic.9y</td>\n",
       "      <td>no</td>\n",
       "      <td>999</td>\n",
       "      <td>0</td>\n",
       "      <td>nonexistent</td>\n",
       "      <td>93.918</td>\n",
       "      <td>1.0</td>\n",
       "      <td>5228.1</td>\n",
       "      <td>0</td>\n",
       "      <td>...</td>\n",
       "      <td>0</td>\n",
       "      <td>0</td>\n",
       "      <td>1</td>\n",
       "      <td>0</td>\n",
       "      <td>0</td>\n",
       "      <td>0</td>\n",
       "      <td>0</td>\n",
       "      <td>0</td>\n",
       "      <td>0</td>\n",
       "      <td>0</td>\n",
       "    </tr>\n",
       "    <tr>\n",
       "      <th>3315</th>\n",
       "      <td>1.0</td>\n",
       "      <td>high.school</td>\n",
       "      <td>unknown</td>\n",
       "      <td>999</td>\n",
       "      <td>0</td>\n",
       "      <td>nonexistent</td>\n",
       "      <td>93.994</td>\n",
       "      <td>2.0</td>\n",
       "      <td>5191.0</td>\n",
       "      <td>0</td>\n",
       "      <td>...</td>\n",
       "      <td>1</td>\n",
       "      <td>0</td>\n",
       "      <td>0</td>\n",
       "      <td>0</td>\n",
       "      <td>0</td>\n",
       "      <td>1</td>\n",
       "      <td>0</td>\n",
       "      <td>0</td>\n",
       "      <td>0</td>\n",
       "      <td>0</td>\n",
       "    </tr>\n",
       "    <tr>\n",
       "      <th>...</th>\n",
       "      <td>...</td>\n",
       "      <td>...</td>\n",
       "      <td>...</td>\n",
       "      <td>...</td>\n",
       "      <td>...</td>\n",
       "      <td>...</td>\n",
       "      <td>...</td>\n",
       "      <td>...</td>\n",
       "      <td>...</td>\n",
       "      <td>...</td>\n",
       "      <td>...</td>\n",
       "      <td>...</td>\n",
       "      <td>...</td>\n",
       "      <td>...</td>\n",
       "      <td>...</td>\n",
       "      <td>...</td>\n",
       "      <td>...</td>\n",
       "      <td>...</td>\n",
       "      <td>...</td>\n",
       "      <td>...</td>\n",
       "      <td>...</td>\n",
       "    </tr>\n",
       "    <tr>\n",
       "      <th>6265</th>\n",
       "      <td>2.0</td>\n",
       "      <td>professional.course</td>\n",
       "      <td>unknown</td>\n",
       "      <td>999</td>\n",
       "      <td>0</td>\n",
       "      <td>nonexistent</td>\n",
       "      <td>93.994</td>\n",
       "      <td>2.0</td>\n",
       "      <td>5191.0</td>\n",
       "      <td>0</td>\n",
       "      <td>...</td>\n",
       "      <td>0</td>\n",
       "      <td>0</td>\n",
       "      <td>0</td>\n",
       "      <td>0</td>\n",
       "      <td>0</td>\n",
       "      <td>0</td>\n",
       "      <td>1</td>\n",
       "      <td>0</td>\n",
       "      <td>0</td>\n",
       "      <td>0</td>\n",
       "    </tr>\n",
       "    <tr>\n",
       "      <th>11284</th>\n",
       "      <td>1.0</td>\n",
       "      <td>university.degree</td>\n",
       "      <td>no</td>\n",
       "      <td>999</td>\n",
       "      <td>0</td>\n",
       "      <td>nonexistent</td>\n",
       "      <td>94.465</td>\n",
       "      <td>1.0</td>\n",
       "      <td>5228.1</td>\n",
       "      <td>0</td>\n",
       "      <td>...</td>\n",
       "      <td>0</td>\n",
       "      <td>0</td>\n",
       "      <td>0</td>\n",
       "      <td>1</td>\n",
       "      <td>0</td>\n",
       "      <td>0</td>\n",
       "      <td>0</td>\n",
       "      <td>0</td>\n",
       "      <td>0</td>\n",
       "      <td>0</td>\n",
       "    </tr>\n",
       "    <tr>\n",
       "      <th>38158</th>\n",
       "      <td>1.0</td>\n",
       "      <td>high.school</td>\n",
       "      <td>no</td>\n",
       "      <td>4</td>\n",
       "      <td>1</td>\n",
       "      <td>success</td>\n",
       "      <td>92.431</td>\n",
       "      <td>2.0</td>\n",
       "      <td>5017.5</td>\n",
       "      <td>0</td>\n",
       "      <td>...</td>\n",
       "      <td>0</td>\n",
       "      <td>0</td>\n",
       "      <td>0</td>\n",
       "      <td>0</td>\n",
       "      <td>0</td>\n",
       "      <td>1</td>\n",
       "      <td>0</td>\n",
       "      <td>0</td>\n",
       "      <td>0</td>\n",
       "      <td>0</td>\n",
       "    </tr>\n",
       "    <tr>\n",
       "      <th>860</th>\n",
       "      <td>1.0</td>\n",
       "      <td>university.degree</td>\n",
       "      <td>no</td>\n",
       "      <td>999</td>\n",
       "      <td>0</td>\n",
       "      <td>nonexistent</td>\n",
       "      <td>93.994</td>\n",
       "      <td>2.0</td>\n",
       "      <td>5191.0</td>\n",
       "      <td>0</td>\n",
       "      <td>...</td>\n",
       "      <td>0</td>\n",
       "      <td>0</td>\n",
       "      <td>0</td>\n",
       "      <td>1</td>\n",
       "      <td>0</td>\n",
       "      <td>0</td>\n",
       "      <td>0</td>\n",
       "      <td>0</td>\n",
       "      <td>0</td>\n",
       "      <td>0</td>\n",
       "    </tr>\n",
       "    <tr>\n",
       "      <th>15795</th>\n",
       "      <td>0.0</td>\n",
       "      <td>university.degree</td>\n",
       "      <td>no</td>\n",
       "      <td>999</td>\n",
       "      <td>0</td>\n",
       "      <td>nonexistent</td>\n",
       "      <td>93.918</td>\n",
       "      <td>1.0</td>\n",
       "      <td>5228.1</td>\n",
       "      <td>0</td>\n",
       "      <td>...</td>\n",
       "      <td>1</td>\n",
       "      <td>0</td>\n",
       "      <td>0</td>\n",
       "      <td>1</td>\n",
       "      <td>0</td>\n",
       "      <td>0</td>\n",
       "      <td>0</td>\n",
       "      <td>0</td>\n",
       "      <td>0</td>\n",
       "      <td>0</td>\n",
       "    </tr>\n",
       "  </tbody>\n",
       "</table>\n",
       "<p>32950 rows × 25 columns</p>\n",
       "</div>"
      ],
      "text/plain": [
       "       age            education  default  pdays  previous     poutcome  \\\n",
       "12556  1.0             basic.9y  unknown    999         0  nonexistent   \n",
       "35451  0.0    university.degree       no    999         0  nonexistent   \n",
       "30592  2.0             basic.4y       no    999         1      failure   \n",
       "17914  1.0             basic.9y       no    999         0  nonexistent   \n",
       "3315   1.0          high.school  unknown    999         0  nonexistent   \n",
       "...    ...                  ...      ...    ...       ...          ...   \n",
       "6265   2.0  professional.course  unknown    999         0  nonexistent   \n",
       "11284  1.0    university.degree       no    999         0  nonexistent   \n",
       "38158  1.0          high.school       no      4         1      success   \n",
       "860    1.0    university.degree       no    999         0  nonexistent   \n",
       "15795  0.0    university.degree       no    999         0  nonexistent   \n",
       "\n",
       "       cons.price.idx  cons.conf.idx  nr.employed  job_0  ...  marital_single  \\\n",
       "12556          93.918            1.0       5228.1      0  ...               0   \n",
       "35451          92.893            0.0       5099.1      0  ...               0   \n",
       "30592          92.893            0.0       5099.1      0  ...               0   \n",
       "17914          93.918            1.0       5228.1      0  ...               0   \n",
       "3315           93.994            2.0       5191.0      0  ...               1   \n",
       "...               ...            ...          ...    ...  ...             ...   \n",
       "6265           93.994            2.0       5191.0      0  ...               0   \n",
       "11284          94.465            1.0       5228.1      0  ...               0   \n",
       "38158          92.431            2.0       5017.5      0  ...               0   \n",
       "860            93.994            2.0       5191.0      0  ...               0   \n",
       "15795          93.918            1.0       5228.1      0  ...               1   \n",
       "\n",
       "       marital_unknown  education_basic.9y  education_university.degree  \\\n",
       "12556                0                   1                            0   \n",
       "35451                0                   0                            1   \n",
       "30592                0                   0                            0   \n",
       "17914                0                   1                            0   \n",
       "3315                 0                   0                            0   \n",
       "...                ...                 ...                          ...   \n",
       "6265                 0                   0                            0   \n",
       "11284                0                   0                            1   \n",
       "38158                0                   0                            0   \n",
       "860                  0                   0                            1   \n",
       "15795                0                   0                            1   \n",
       "\n",
       "       education_basic.4y  education_high.school  \\\n",
       "12556                   0                      0   \n",
       "35451                   0                      0   \n",
       "30592                   1                      0   \n",
       "17914                   0                      0   \n",
       "3315                    0                      1   \n",
       "...                   ...                    ...   \n",
       "6265                    0                      0   \n",
       "11284                   0                      0   \n",
       "38158                   0                      1   \n",
       "860                     0                      0   \n",
       "15795                   0                      0   \n",
       "\n",
       "       education_professional.course  education_basic.6y  education_unknown  \\\n",
       "12556                              0                   0                  0   \n",
       "35451                              0                   0                  0   \n",
       "30592                              0                   0                  0   \n",
       "17914                              0                   0                  0   \n",
       "3315                               0                   0                  0   \n",
       "...                              ...                 ...                ...   \n",
       "6265                               1                   0                  0   \n",
       "11284                              0                   0                  0   \n",
       "38158                              0                   0                  0   \n",
       "860                                0                   0                  0   \n",
       "15795                              0                   0                  0   \n",
       "\n",
       "       education_illiterate  \n",
       "12556                     0  \n",
       "35451                     0  \n",
       "30592                     0  \n",
       "17914                     0  \n",
       "3315                      0  \n",
       "...                     ...  \n",
       "6265                      0  \n",
       "11284                     0  \n",
       "38158                     0  \n",
       "860                       0  \n",
       "15795                     0  \n",
       "\n",
       "[32950 rows x 25 columns]"
      ]
     },
     "execution_count": 62,
     "metadata": {},
     "output_type": "execute_result"
    }
   ],
   "source": [
    "# concat\n",
    "\n",
    "X_train = pd.concat([X_train, X_train_education_encoded], axis=1)\n",
    "X_test = pd.concat([X_test, X_test_education_encoded], axis=1)\n",
    "\n",
    "X_train"
   ]
  },
  {
   "cell_type": "code",
   "execution_count": 63,
   "metadata": {},
   "outputs": [],
   "source": [
    "#drop `education`\n",
    "\n",
    "X_train.drop('education', axis=1, inplace=True)\n",
    "X_test.drop('education', axis=1, inplace=True)"
   ]
  },
  {
   "cell_type": "markdown",
   "metadata": {
    "tags": []
   },
   "source": [
    "### d) `default`"
   ]
  },
  {
   "cell_type": "code",
   "execution_count": 64,
   "metadata": {},
   "outputs": [
    {
     "data": {
      "text/html": [
       "<div>\n",
       "<style scoped>\n",
       "    .dataframe tbody tr th:only-of-type {\n",
       "        vertical-align: middle;\n",
       "    }\n",
       "\n",
       "    .dataframe tbody tr th {\n",
       "        vertical-align: top;\n",
       "    }\n",
       "\n",
       "    .dataframe thead th {\n",
       "        text-align: right;\n",
       "    }\n",
       "</style>\n",
       "<table border=\"1\" class=\"dataframe\">\n",
       "  <thead>\n",
       "    <tr style=\"text-align: right;\">\n",
       "      <th></th>\n",
       "      <th>default</th>\n",
       "    </tr>\n",
       "  </thead>\n",
       "  <tbody>\n",
       "    <tr>\n",
       "      <th>no</th>\n",
       "      <td>26090</td>\n",
       "    </tr>\n",
       "    <tr>\n",
       "      <th>unknown</th>\n",
       "      <td>6857</td>\n",
       "    </tr>\n",
       "    <tr>\n",
       "      <th>yes</th>\n",
       "      <td>3</td>\n",
       "    </tr>\n",
       "  </tbody>\n",
       "</table>\n",
       "</div>"
      ],
      "text/plain": [
       "         default\n",
       "no         26090\n",
       "unknown     6857\n",
       "yes            3"
      ]
     },
     "execution_count": 64,
     "metadata": {},
     "output_type": "execute_result"
    }
   ],
   "source": [
    "X_train['default'].value_counts().to_frame()"
   ]
  },
  {
   "cell_type": "code",
   "execution_count": 65,
   "metadata": {},
   "outputs": [
    {
     "data": {
      "text/plain": [
       "array(['unknown', 'no', 'yes'], dtype=object)"
      ]
     },
     "execution_count": 65,
     "metadata": {},
     "output_type": "execute_result"
    }
   ],
   "source": [
    "X_train['default'].unique()"
   ]
  },
  {
   "cell_type": "code",
   "execution_count": 66,
   "metadata": {},
   "outputs": [
    {
     "data": {
      "text/html": [
       "<div>\n",
       "<style scoped>\n",
       "    .dataframe tbody tr th:only-of-type {\n",
       "        vertical-align: middle;\n",
       "    }\n",
       "\n",
       "    .dataframe tbody tr th {\n",
       "        vertical-align: top;\n",
       "    }\n",
       "\n",
       "    .dataframe thead th {\n",
       "        text-align: right;\n",
       "    }\n",
       "</style>\n",
       "<table border=\"1\" class=\"dataframe\">\n",
       "  <thead>\n",
       "    <tr style=\"text-align: right;\">\n",
       "      <th></th>\n",
       "      <th>default_unknown</th>\n",
       "      <th>default_no</th>\n",
       "      <th>default_yes</th>\n",
       "    </tr>\n",
       "  </thead>\n",
       "  <tbody>\n",
       "    <tr>\n",
       "      <th>12556</th>\n",
       "      <td>1</td>\n",
       "      <td>0</td>\n",
       "      <td>0</td>\n",
       "    </tr>\n",
       "    <tr>\n",
       "      <th>35451</th>\n",
       "      <td>0</td>\n",
       "      <td>1</td>\n",
       "      <td>0</td>\n",
       "    </tr>\n",
       "    <tr>\n",
       "      <th>30592</th>\n",
       "      <td>0</td>\n",
       "      <td>1</td>\n",
       "      <td>0</td>\n",
       "    </tr>\n",
       "    <tr>\n",
       "      <th>17914</th>\n",
       "      <td>0</td>\n",
       "      <td>1</td>\n",
       "      <td>0</td>\n",
       "    </tr>\n",
       "    <tr>\n",
       "      <th>3315</th>\n",
       "      <td>1</td>\n",
       "      <td>0</td>\n",
       "      <td>0</td>\n",
       "    </tr>\n",
       "  </tbody>\n",
       "</table>\n",
       "</div>"
      ],
      "text/plain": [
       "       default_unknown  default_no  default_yes\n",
       "12556                1           0            0\n",
       "35451                0           1            0\n",
       "30592                0           1            0\n",
       "17914                0           1            0\n",
       "3315                 1           0            0"
      ]
     },
     "execution_count": 66,
     "metadata": {},
     "output_type": "execute_result"
    }
   ],
   "source": [
    "# Due to the nature of the variable, as well as context, it makes sense to use an OHE on this variable\n",
    "# It seems that there is no inherent order or hierarchy among the categories\n",
    "\n",
    "ohe_encoder_default = OHE(use_cat_names=True)\n",
    "\n",
    "#encode\n",
    "\n",
    "X_train_default_encoded = ohe_encoder_default.fit_transform(X_train[['default']])\n",
    "X_test_default_encoded = ohe_encoder_default.transform(X_test[['default']])\n",
    "\n",
    "X_train_default_encoded.head()"
   ]
  },
  {
   "cell_type": "code",
   "execution_count": 67,
   "metadata": {},
   "outputs": [
    {
     "data": {
      "text/html": [
       "<div>\n",
       "<style scoped>\n",
       "    .dataframe tbody tr th:only-of-type {\n",
       "        vertical-align: middle;\n",
       "    }\n",
       "\n",
       "    .dataframe tbody tr th {\n",
       "        vertical-align: top;\n",
       "    }\n",
       "\n",
       "    .dataframe thead th {\n",
       "        text-align: right;\n",
       "    }\n",
       "</style>\n",
       "<table border=\"1\" class=\"dataframe\">\n",
       "  <thead>\n",
       "    <tr style=\"text-align: right;\">\n",
       "      <th></th>\n",
       "      <th>age</th>\n",
       "      <th>default</th>\n",
       "      <th>pdays</th>\n",
       "      <th>previous</th>\n",
       "      <th>poutcome</th>\n",
       "      <th>cons.price.idx</th>\n",
       "      <th>cons.conf.idx</th>\n",
       "      <th>nr.employed</th>\n",
       "      <th>job_0</th>\n",
       "      <th>job_1</th>\n",
       "      <th>...</th>\n",
       "      <th>education_university.degree</th>\n",
       "      <th>education_basic.4y</th>\n",
       "      <th>education_high.school</th>\n",
       "      <th>education_professional.course</th>\n",
       "      <th>education_basic.6y</th>\n",
       "      <th>education_unknown</th>\n",
       "      <th>education_illiterate</th>\n",
       "      <th>default_unknown</th>\n",
       "      <th>default_no</th>\n",
       "      <th>default_yes</th>\n",
       "    </tr>\n",
       "  </thead>\n",
       "  <tbody>\n",
       "    <tr>\n",
       "      <th>12556</th>\n",
       "      <td>1.0</td>\n",
       "      <td>unknown</td>\n",
       "      <td>999</td>\n",
       "      <td>0</td>\n",
       "      <td>nonexistent</td>\n",
       "      <td>93.918</td>\n",
       "      <td>1.0</td>\n",
       "      <td>5228.1</td>\n",
       "      <td>0</td>\n",
       "      <td>0</td>\n",
       "      <td>...</td>\n",
       "      <td>0</td>\n",
       "      <td>0</td>\n",
       "      <td>0</td>\n",
       "      <td>0</td>\n",
       "      <td>0</td>\n",
       "      <td>0</td>\n",
       "      <td>0</td>\n",
       "      <td>1</td>\n",
       "      <td>0</td>\n",
       "      <td>0</td>\n",
       "    </tr>\n",
       "    <tr>\n",
       "      <th>35451</th>\n",
       "      <td>0.0</td>\n",
       "      <td>no</td>\n",
       "      <td>999</td>\n",
       "      <td>0</td>\n",
       "      <td>nonexistent</td>\n",
       "      <td>92.893</td>\n",
       "      <td>0.0</td>\n",
       "      <td>5099.1</td>\n",
       "      <td>0</td>\n",
       "      <td>0</td>\n",
       "      <td>...</td>\n",
       "      <td>1</td>\n",
       "      <td>0</td>\n",
       "      <td>0</td>\n",
       "      <td>0</td>\n",
       "      <td>0</td>\n",
       "      <td>0</td>\n",
       "      <td>0</td>\n",
       "      <td>0</td>\n",
       "      <td>1</td>\n",
       "      <td>0</td>\n",
       "    </tr>\n",
       "    <tr>\n",
       "      <th>30592</th>\n",
       "      <td>2.0</td>\n",
       "      <td>no</td>\n",
       "      <td>999</td>\n",
       "      <td>1</td>\n",
       "      <td>failure</td>\n",
       "      <td>92.893</td>\n",
       "      <td>0.0</td>\n",
       "      <td>5099.1</td>\n",
       "      <td>0</td>\n",
       "      <td>0</td>\n",
       "      <td>...</td>\n",
       "      <td>0</td>\n",
       "      <td>1</td>\n",
       "      <td>0</td>\n",
       "      <td>0</td>\n",
       "      <td>0</td>\n",
       "      <td>0</td>\n",
       "      <td>0</td>\n",
       "      <td>0</td>\n",
       "      <td>1</td>\n",
       "      <td>0</td>\n",
       "    </tr>\n",
       "    <tr>\n",
       "      <th>17914</th>\n",
       "      <td>1.0</td>\n",
       "      <td>no</td>\n",
       "      <td>999</td>\n",
       "      <td>0</td>\n",
       "      <td>nonexistent</td>\n",
       "      <td>93.918</td>\n",
       "      <td>1.0</td>\n",
       "      <td>5228.1</td>\n",
       "      <td>0</td>\n",
       "      <td>1</td>\n",
       "      <td>...</td>\n",
       "      <td>0</td>\n",
       "      <td>0</td>\n",
       "      <td>0</td>\n",
       "      <td>0</td>\n",
       "      <td>0</td>\n",
       "      <td>0</td>\n",
       "      <td>0</td>\n",
       "      <td>0</td>\n",
       "      <td>1</td>\n",
       "      <td>0</td>\n",
       "    </tr>\n",
       "    <tr>\n",
       "      <th>3315</th>\n",
       "      <td>1.0</td>\n",
       "      <td>unknown</td>\n",
       "      <td>999</td>\n",
       "      <td>0</td>\n",
       "      <td>nonexistent</td>\n",
       "      <td>93.994</td>\n",
       "      <td>2.0</td>\n",
       "      <td>5191.0</td>\n",
       "      <td>0</td>\n",
       "      <td>0</td>\n",
       "      <td>...</td>\n",
       "      <td>0</td>\n",
       "      <td>0</td>\n",
       "      <td>1</td>\n",
       "      <td>0</td>\n",
       "      <td>0</td>\n",
       "      <td>0</td>\n",
       "      <td>0</td>\n",
       "      <td>1</td>\n",
       "      <td>0</td>\n",
       "      <td>0</td>\n",
       "    </tr>\n",
       "    <tr>\n",
       "      <th>...</th>\n",
       "      <td>...</td>\n",
       "      <td>...</td>\n",
       "      <td>...</td>\n",
       "      <td>...</td>\n",
       "      <td>...</td>\n",
       "      <td>...</td>\n",
       "      <td>...</td>\n",
       "      <td>...</td>\n",
       "      <td>...</td>\n",
       "      <td>...</td>\n",
       "      <td>...</td>\n",
       "      <td>...</td>\n",
       "      <td>...</td>\n",
       "      <td>...</td>\n",
       "      <td>...</td>\n",
       "      <td>...</td>\n",
       "      <td>...</td>\n",
       "      <td>...</td>\n",
       "      <td>...</td>\n",
       "      <td>...</td>\n",
       "      <td>...</td>\n",
       "    </tr>\n",
       "    <tr>\n",
       "      <th>6265</th>\n",
       "      <td>2.0</td>\n",
       "      <td>unknown</td>\n",
       "      <td>999</td>\n",
       "      <td>0</td>\n",
       "      <td>nonexistent</td>\n",
       "      <td>93.994</td>\n",
       "      <td>2.0</td>\n",
       "      <td>5191.0</td>\n",
       "      <td>0</td>\n",
       "      <td>0</td>\n",
       "      <td>...</td>\n",
       "      <td>0</td>\n",
       "      <td>0</td>\n",
       "      <td>0</td>\n",
       "      <td>1</td>\n",
       "      <td>0</td>\n",
       "      <td>0</td>\n",
       "      <td>0</td>\n",
       "      <td>1</td>\n",
       "      <td>0</td>\n",
       "      <td>0</td>\n",
       "    </tr>\n",
       "    <tr>\n",
       "      <th>11284</th>\n",
       "      <td>1.0</td>\n",
       "      <td>no</td>\n",
       "      <td>999</td>\n",
       "      <td>0</td>\n",
       "      <td>nonexistent</td>\n",
       "      <td>94.465</td>\n",
       "      <td>1.0</td>\n",
       "      <td>5228.1</td>\n",
       "      <td>0</td>\n",
       "      <td>1</td>\n",
       "      <td>...</td>\n",
       "      <td>1</td>\n",
       "      <td>0</td>\n",
       "      <td>0</td>\n",
       "      <td>0</td>\n",
       "      <td>0</td>\n",
       "      <td>0</td>\n",
       "      <td>0</td>\n",
       "      <td>0</td>\n",
       "      <td>1</td>\n",
       "      <td>0</td>\n",
       "    </tr>\n",
       "    <tr>\n",
       "      <th>38158</th>\n",
       "      <td>1.0</td>\n",
       "      <td>no</td>\n",
       "      <td>4</td>\n",
       "      <td>1</td>\n",
       "      <td>success</td>\n",
       "      <td>92.431</td>\n",
       "      <td>2.0</td>\n",
       "      <td>5017.5</td>\n",
       "      <td>0</td>\n",
       "      <td>0</td>\n",
       "      <td>...</td>\n",
       "      <td>0</td>\n",
       "      <td>0</td>\n",
       "      <td>1</td>\n",
       "      <td>0</td>\n",
       "      <td>0</td>\n",
       "      <td>0</td>\n",
       "      <td>0</td>\n",
       "      <td>0</td>\n",
       "      <td>1</td>\n",
       "      <td>0</td>\n",
       "    </tr>\n",
       "    <tr>\n",
       "      <th>860</th>\n",
       "      <td>1.0</td>\n",
       "      <td>no</td>\n",
       "      <td>999</td>\n",
       "      <td>0</td>\n",
       "      <td>nonexistent</td>\n",
       "      <td>93.994</td>\n",
       "      <td>2.0</td>\n",
       "      <td>5191.0</td>\n",
       "      <td>0</td>\n",
       "      <td>1</td>\n",
       "      <td>...</td>\n",
       "      <td>1</td>\n",
       "      <td>0</td>\n",
       "      <td>0</td>\n",
       "      <td>0</td>\n",
       "      <td>0</td>\n",
       "      <td>0</td>\n",
       "      <td>0</td>\n",
       "      <td>0</td>\n",
       "      <td>1</td>\n",
       "      <td>0</td>\n",
       "    </tr>\n",
       "    <tr>\n",
       "      <th>15795</th>\n",
       "      <td>0.0</td>\n",
       "      <td>no</td>\n",
       "      <td>999</td>\n",
       "      <td>0</td>\n",
       "      <td>nonexistent</td>\n",
       "      <td>93.918</td>\n",
       "      <td>1.0</td>\n",
       "      <td>5228.1</td>\n",
       "      <td>0</td>\n",
       "      <td>0</td>\n",
       "      <td>...</td>\n",
       "      <td>1</td>\n",
       "      <td>0</td>\n",
       "      <td>0</td>\n",
       "      <td>0</td>\n",
       "      <td>0</td>\n",
       "      <td>0</td>\n",
       "      <td>0</td>\n",
       "      <td>0</td>\n",
       "      <td>1</td>\n",
       "      <td>0</td>\n",
       "    </tr>\n",
       "  </tbody>\n",
       "</table>\n",
       "<p>32950 rows × 27 columns</p>\n",
       "</div>"
      ],
      "text/plain": [
       "       age  default  pdays  previous     poutcome  cons.price.idx  \\\n",
       "12556  1.0  unknown    999         0  nonexistent          93.918   \n",
       "35451  0.0       no    999         0  nonexistent          92.893   \n",
       "30592  2.0       no    999         1      failure          92.893   \n",
       "17914  1.0       no    999         0  nonexistent          93.918   \n",
       "3315   1.0  unknown    999         0  nonexistent          93.994   \n",
       "...    ...      ...    ...       ...          ...             ...   \n",
       "6265   2.0  unknown    999         0  nonexistent          93.994   \n",
       "11284  1.0       no    999         0  nonexistent          94.465   \n",
       "38158  1.0       no      4         1      success          92.431   \n",
       "860    1.0       no    999         0  nonexistent          93.994   \n",
       "15795  0.0       no    999         0  nonexistent          93.918   \n",
       "\n",
       "       cons.conf.idx  nr.employed  job_0  job_1  ...  \\\n",
       "12556            1.0       5228.1      0      0  ...   \n",
       "35451            0.0       5099.1      0      0  ...   \n",
       "30592            0.0       5099.1      0      0  ...   \n",
       "17914            1.0       5228.1      0      1  ...   \n",
       "3315             2.0       5191.0      0      0  ...   \n",
       "...              ...          ...    ...    ...  ...   \n",
       "6265             2.0       5191.0      0      0  ...   \n",
       "11284            1.0       5228.1      0      1  ...   \n",
       "38158            2.0       5017.5      0      0  ...   \n",
       "860              2.0       5191.0      0      1  ...   \n",
       "15795            1.0       5228.1      0      0  ...   \n",
       "\n",
       "       education_university.degree  education_basic.4y  education_high.school  \\\n",
       "12556                            0                   0                      0   \n",
       "35451                            1                   0                      0   \n",
       "30592                            0                   1                      0   \n",
       "17914                            0                   0                      0   \n",
       "3315                             0                   0                      1   \n",
       "...                            ...                 ...                    ...   \n",
       "6265                             0                   0                      0   \n",
       "11284                            1                   0                      0   \n",
       "38158                            0                   0                      1   \n",
       "860                              1                   0                      0   \n",
       "15795                            1                   0                      0   \n",
       "\n",
       "       education_professional.course  education_basic.6y  education_unknown  \\\n",
       "12556                              0                   0                  0   \n",
       "35451                              0                   0                  0   \n",
       "30592                              0                   0                  0   \n",
       "17914                              0                   0                  0   \n",
       "3315                               0                   0                  0   \n",
       "...                              ...                 ...                ...   \n",
       "6265                               1                   0                  0   \n",
       "11284                              0                   0                  0   \n",
       "38158                              0                   0                  0   \n",
       "860                                0                   0                  0   \n",
       "15795                              0                   0                  0   \n",
       "\n",
       "       education_illiterate  default_unknown  default_no  default_yes  \n",
       "12556                     0                1           0            0  \n",
       "35451                     0                0           1            0  \n",
       "30592                     0                0           1            0  \n",
       "17914                     0                0           1            0  \n",
       "3315                      0                1           0            0  \n",
       "...                     ...              ...         ...          ...  \n",
       "6265                      0                1           0            0  \n",
       "11284                     0                0           1            0  \n",
       "38158                     0                0           1            0  \n",
       "860                       0                0           1            0  \n",
       "15795                     0                0           1            0  \n",
       "\n",
       "[32950 rows x 27 columns]"
      ]
     },
     "execution_count": 67,
     "metadata": {},
     "output_type": "execute_result"
    }
   ],
   "source": [
    "# concat\n",
    "\n",
    "X_train = pd.concat([X_train, X_train_default_encoded], axis=1)\n",
    "X_test = pd.concat([X_test, X_test_default_encoded], axis=1)\n",
    "\n",
    "X_train"
   ]
  },
  {
   "cell_type": "code",
   "execution_count": 68,
   "metadata": {},
   "outputs": [],
   "source": [
    "#drop `default`\n",
    "\n",
    "X_train.drop('default', axis=1, inplace=True)\n",
    "X_test.drop('default', axis=1, inplace=True)"
   ]
  },
  {
   "cell_type": "markdown",
   "metadata": {
    "tags": []
   },
   "source": [
    "### e) `poutcome`"
   ]
  },
  {
   "cell_type": "code",
   "execution_count": 69,
   "metadata": {},
   "outputs": [
    {
     "data": {
      "text/html": [
       "<div>\n",
       "<style scoped>\n",
       "    .dataframe tbody tr th:only-of-type {\n",
       "        vertical-align: middle;\n",
       "    }\n",
       "\n",
       "    .dataframe tbody tr th {\n",
       "        vertical-align: top;\n",
       "    }\n",
       "\n",
       "    .dataframe thead th {\n",
       "        text-align: right;\n",
       "    }\n",
       "</style>\n",
       "<table border=\"1\" class=\"dataframe\">\n",
       "  <thead>\n",
       "    <tr style=\"text-align: right;\">\n",
       "      <th></th>\n",
       "      <th>poutcome</th>\n",
       "    </tr>\n",
       "  </thead>\n",
       "  <tbody>\n",
       "    <tr>\n",
       "      <th>nonexistent</th>\n",
       "      <td>28437</td>\n",
       "    </tr>\n",
       "    <tr>\n",
       "      <th>failure</th>\n",
       "      <td>3423</td>\n",
       "    </tr>\n",
       "    <tr>\n",
       "      <th>success</th>\n",
       "      <td>1090</td>\n",
       "    </tr>\n",
       "  </tbody>\n",
       "</table>\n",
       "</div>"
      ],
      "text/plain": [
       "             poutcome\n",
       "nonexistent     28437\n",
       "failure          3423\n",
       "success          1090"
      ]
     },
     "execution_count": 69,
     "metadata": {},
     "output_type": "execute_result"
    }
   ],
   "source": [
    "X_train['poutcome'].value_counts().to_frame()"
   ]
  },
  {
   "cell_type": "code",
   "execution_count": 70,
   "metadata": {},
   "outputs": [
    {
     "data": {
      "text/html": [
       "<div>\n",
       "<style scoped>\n",
       "    .dataframe tbody tr th:only-of-type {\n",
       "        vertical-align: middle;\n",
       "    }\n",
       "\n",
       "    .dataframe tbody tr th {\n",
       "        vertical-align: top;\n",
       "    }\n",
       "\n",
       "    .dataframe thead th {\n",
       "        text-align: right;\n",
       "    }\n",
       "</style>\n",
       "<table border=\"1\" class=\"dataframe\">\n",
       "  <thead>\n",
       "    <tr style=\"text-align: right;\">\n",
       "      <th></th>\n",
       "      <th>poutcome_nonexistent</th>\n",
       "      <th>poutcome_failure</th>\n",
       "      <th>poutcome_success</th>\n",
       "    </tr>\n",
       "  </thead>\n",
       "  <tbody>\n",
       "    <tr>\n",
       "      <th>12556</th>\n",
       "      <td>1</td>\n",
       "      <td>0</td>\n",
       "      <td>0</td>\n",
       "    </tr>\n",
       "    <tr>\n",
       "      <th>35451</th>\n",
       "      <td>1</td>\n",
       "      <td>0</td>\n",
       "      <td>0</td>\n",
       "    </tr>\n",
       "    <tr>\n",
       "      <th>30592</th>\n",
       "      <td>0</td>\n",
       "      <td>1</td>\n",
       "      <td>0</td>\n",
       "    </tr>\n",
       "    <tr>\n",
       "      <th>17914</th>\n",
       "      <td>1</td>\n",
       "      <td>0</td>\n",
       "      <td>0</td>\n",
       "    </tr>\n",
       "    <tr>\n",
       "      <th>3315</th>\n",
       "      <td>1</td>\n",
       "      <td>0</td>\n",
       "      <td>0</td>\n",
       "    </tr>\n",
       "  </tbody>\n",
       "</table>\n",
       "</div>"
      ],
      "text/plain": [
       "       poutcome_nonexistent  poutcome_failure  poutcome_success\n",
       "12556                     1                 0                 0\n",
       "35451                     1                 0                 0\n",
       "30592                     0                 1                 0\n",
       "17914                     1                 0                 0\n",
       "3315                      1                 0                 0"
      ]
     },
     "execution_count": 70,
     "metadata": {},
     "output_type": "execute_result"
    }
   ],
   "source": [
    "# Due to the nature of the variable, as well as context, it makes sense to use an OHE on this variable\n",
    "# It seems that there is no inherent order or hierarchy among the categories\n",
    "\n",
    "ohe_encoder_poutcome = OHE(use_cat_names=True)\n",
    "\n",
    "#encode\n",
    "\n",
    "X_train_poutcome_encoded = ohe_encoder_poutcome.fit_transform(X_train[['poutcome']])\n",
    "X_test_poutcome_encoded = ohe_encoder_poutcome.transform(X_test[['poutcome']])\n",
    "\n",
    "X_train_poutcome_encoded.head()"
   ]
  },
  {
   "cell_type": "code",
   "execution_count": 71,
   "metadata": {},
   "outputs": [
    {
     "data": {
      "text/html": [
       "<div>\n",
       "<style scoped>\n",
       "    .dataframe tbody tr th:only-of-type {\n",
       "        vertical-align: middle;\n",
       "    }\n",
       "\n",
       "    .dataframe tbody tr th {\n",
       "        vertical-align: top;\n",
       "    }\n",
       "\n",
       "    .dataframe thead th {\n",
       "        text-align: right;\n",
       "    }\n",
       "</style>\n",
       "<table border=\"1\" class=\"dataframe\">\n",
       "  <thead>\n",
       "    <tr style=\"text-align: right;\">\n",
       "      <th></th>\n",
       "      <th>age</th>\n",
       "      <th>pdays</th>\n",
       "      <th>previous</th>\n",
       "      <th>poutcome</th>\n",
       "      <th>cons.price.idx</th>\n",
       "      <th>cons.conf.idx</th>\n",
       "      <th>nr.employed</th>\n",
       "      <th>job_0</th>\n",
       "      <th>job_1</th>\n",
       "      <th>job_2</th>\n",
       "      <th>...</th>\n",
       "      <th>education_professional.course</th>\n",
       "      <th>education_basic.6y</th>\n",
       "      <th>education_unknown</th>\n",
       "      <th>education_illiterate</th>\n",
       "      <th>default_unknown</th>\n",
       "      <th>default_no</th>\n",
       "      <th>default_yes</th>\n",
       "      <th>poutcome_nonexistent</th>\n",
       "      <th>poutcome_failure</th>\n",
       "      <th>poutcome_success</th>\n",
       "    </tr>\n",
       "  </thead>\n",
       "  <tbody>\n",
       "    <tr>\n",
       "      <th>12556</th>\n",
       "      <td>1.0</td>\n",
       "      <td>999</td>\n",
       "      <td>0</td>\n",
       "      <td>nonexistent</td>\n",
       "      <td>93.918</td>\n",
       "      <td>1.0</td>\n",
       "      <td>5228.1</td>\n",
       "      <td>0</td>\n",
       "      <td>0</td>\n",
       "      <td>0</td>\n",
       "      <td>...</td>\n",
       "      <td>0</td>\n",
       "      <td>0</td>\n",
       "      <td>0</td>\n",
       "      <td>0</td>\n",
       "      <td>1</td>\n",
       "      <td>0</td>\n",
       "      <td>0</td>\n",
       "      <td>1</td>\n",
       "      <td>0</td>\n",
       "      <td>0</td>\n",
       "    </tr>\n",
       "    <tr>\n",
       "      <th>35451</th>\n",
       "      <td>0.0</td>\n",
       "      <td>999</td>\n",
       "      <td>0</td>\n",
       "      <td>nonexistent</td>\n",
       "      <td>92.893</td>\n",
       "      <td>0.0</td>\n",
       "      <td>5099.1</td>\n",
       "      <td>0</td>\n",
       "      <td>0</td>\n",
       "      <td>1</td>\n",
       "      <td>...</td>\n",
       "      <td>0</td>\n",
       "      <td>0</td>\n",
       "      <td>0</td>\n",
       "      <td>0</td>\n",
       "      <td>0</td>\n",
       "      <td>1</td>\n",
       "      <td>0</td>\n",
       "      <td>1</td>\n",
       "      <td>0</td>\n",
       "      <td>0</td>\n",
       "    </tr>\n",
       "    <tr>\n",
       "      <th>30592</th>\n",
       "      <td>2.0</td>\n",
       "      <td>999</td>\n",
       "      <td>1</td>\n",
       "      <td>failure</td>\n",
       "      <td>92.893</td>\n",
       "      <td>0.0</td>\n",
       "      <td>5099.1</td>\n",
       "      <td>0</td>\n",
       "      <td>0</td>\n",
       "      <td>1</td>\n",
       "      <td>...</td>\n",
       "      <td>0</td>\n",
       "      <td>0</td>\n",
       "      <td>0</td>\n",
       "      <td>0</td>\n",
       "      <td>0</td>\n",
       "      <td>1</td>\n",
       "      <td>0</td>\n",
       "      <td>0</td>\n",
       "      <td>1</td>\n",
       "      <td>0</td>\n",
       "    </tr>\n",
       "    <tr>\n",
       "      <th>17914</th>\n",
       "      <td>1.0</td>\n",
       "      <td>999</td>\n",
       "      <td>0</td>\n",
       "      <td>nonexistent</td>\n",
       "      <td>93.918</td>\n",
       "      <td>1.0</td>\n",
       "      <td>5228.1</td>\n",
       "      <td>0</td>\n",
       "      <td>1</td>\n",
       "      <td>0</td>\n",
       "      <td>...</td>\n",
       "      <td>0</td>\n",
       "      <td>0</td>\n",
       "      <td>0</td>\n",
       "      <td>0</td>\n",
       "      <td>0</td>\n",
       "      <td>1</td>\n",
       "      <td>0</td>\n",
       "      <td>1</td>\n",
       "      <td>0</td>\n",
       "      <td>0</td>\n",
       "    </tr>\n",
       "    <tr>\n",
       "      <th>3315</th>\n",
       "      <td>1.0</td>\n",
       "      <td>999</td>\n",
       "      <td>0</td>\n",
       "      <td>nonexistent</td>\n",
       "      <td>93.994</td>\n",
       "      <td>2.0</td>\n",
       "      <td>5191.0</td>\n",
       "      <td>0</td>\n",
       "      <td>0</td>\n",
       "      <td>1</td>\n",
       "      <td>...</td>\n",
       "      <td>0</td>\n",
       "      <td>0</td>\n",
       "      <td>0</td>\n",
       "      <td>0</td>\n",
       "      <td>1</td>\n",
       "      <td>0</td>\n",
       "      <td>0</td>\n",
       "      <td>1</td>\n",
       "      <td>0</td>\n",
       "      <td>0</td>\n",
       "    </tr>\n",
       "  </tbody>\n",
       "</table>\n",
       "<p>5 rows × 29 columns</p>\n",
       "</div>"
      ],
      "text/plain": [
       "       age  pdays  previous     poutcome  cons.price.idx  cons.conf.idx  \\\n",
       "12556  1.0    999         0  nonexistent          93.918            1.0   \n",
       "35451  0.0    999         0  nonexistent          92.893            0.0   \n",
       "30592  2.0    999         1      failure          92.893            0.0   \n",
       "17914  1.0    999         0  nonexistent          93.918            1.0   \n",
       "3315   1.0    999         0  nonexistent          93.994            2.0   \n",
       "\n",
       "       nr.employed  job_0  job_1  job_2  ...  education_professional.course  \\\n",
       "12556       5228.1      0      0      0  ...                              0   \n",
       "35451       5099.1      0      0      1  ...                              0   \n",
       "30592       5099.1      0      0      1  ...                              0   \n",
       "17914       5228.1      0      1      0  ...                              0   \n",
       "3315        5191.0      0      0      1  ...                              0   \n",
       "\n",
       "       education_basic.6y  education_unknown  education_illiterate  \\\n",
       "12556                   0                  0                     0   \n",
       "35451                   0                  0                     0   \n",
       "30592                   0                  0                     0   \n",
       "17914                   0                  0                     0   \n",
       "3315                    0                  0                     0   \n",
       "\n",
       "       default_unknown  default_no  default_yes  poutcome_nonexistent  \\\n",
       "12556                1           0            0                     1   \n",
       "35451                0           1            0                     1   \n",
       "30592                0           1            0                     0   \n",
       "17914                0           1            0                     1   \n",
       "3315                 1           0            0                     1   \n",
       "\n",
       "       poutcome_failure  poutcome_success  \n",
       "12556                 0                 0  \n",
       "35451                 0                 0  \n",
       "30592                 1                 0  \n",
       "17914                 0                 0  \n",
       "3315                  0                 0  \n",
       "\n",
       "[5 rows x 29 columns]"
      ]
     },
     "execution_count": 71,
     "metadata": {},
     "output_type": "execute_result"
    }
   ],
   "source": [
    "# concat\n",
    "\n",
    "X_train = pd.concat([X_train, X_train_poutcome_encoded], axis=1)\n",
    "X_test = pd.concat([X_test, X_test_poutcome_encoded], axis=1)\n",
    "\n",
    "X_train.head()"
   ]
  },
  {
   "cell_type": "code",
   "execution_count": 72,
   "metadata": {},
   "outputs": [],
   "source": [
    "#drop `poutcome`\n",
    "\n",
    "X_train.drop('poutcome', axis=1, inplace=True)\n",
    "X_test.drop('poutcome', axis=1, inplace=True)"
   ]
  },
  {
   "cell_type": "markdown",
   "metadata": {},
   "source": [
    "## 3.7. Selection of variables"
   ]
  },
  {
   "cell_type": "markdown",
   "metadata": {},
   "source": [
    "According to the above analysis, we conclude that the most relevant variables to decide whether a customer is more likely to adhere to the term deposit are:"
   ]
  },
  {
   "cell_type": "code",
   "execution_count": 73,
   "metadata": {},
   "outputs": [
    {
     "data": {
      "text/plain": [
       "['age',\n",
       " 'pdays',\n",
       " 'previous',\n",
       " 'cons.price.idx',\n",
       " 'cons.conf.idx',\n",
       " 'nr.employed',\n",
       " 'job_0',\n",
       " 'job_1',\n",
       " 'job_2',\n",
       " 'job_3',\n",
       " 'marital_married',\n",
       " 'marital_divorced',\n",
       " 'marital_single',\n",
       " 'marital_unknown',\n",
       " 'education_basic.9y',\n",
       " 'education_university.degree',\n",
       " 'education_basic.4y',\n",
       " 'education_high.school',\n",
       " 'education_professional.course',\n",
       " 'education_basic.6y',\n",
       " 'education_unknown',\n",
       " 'education_illiterate',\n",
       " 'default_unknown',\n",
       " 'default_no',\n",
       " 'default_yes',\n",
       " 'poutcome_nonexistent',\n",
       " 'poutcome_failure',\n",
       " 'poutcome_success']"
      ]
     },
     "execution_count": 73,
     "metadata": {},
     "output_type": "execute_result"
    }
   ],
   "source": [
    "list(X_train.columns)"
   ]
  },
  {
   "cell_type": "code",
   "execution_count": 74,
   "metadata": {},
   "outputs": [
    {
     "data": {
      "text/html": [
       "<div>\n",
       "<style scoped>\n",
       "    .dataframe tbody tr th:only-of-type {\n",
       "        vertical-align: middle;\n",
       "    }\n",
       "\n",
       "    .dataframe tbody tr th {\n",
       "        vertical-align: top;\n",
       "    }\n",
       "\n",
       "    .dataframe thead th {\n",
       "        text-align: right;\n",
       "    }\n",
       "</style>\n",
       "<table border=\"1\" class=\"dataframe\">\n",
       "  <thead>\n",
       "    <tr style=\"text-align: right;\">\n",
       "      <th></th>\n",
       "      <th>age</th>\n",
       "      <th>pdays</th>\n",
       "      <th>previous</th>\n",
       "      <th>cons.price.idx</th>\n",
       "      <th>cons.conf.idx</th>\n",
       "      <th>nr.employed</th>\n",
       "      <th>job_0</th>\n",
       "      <th>job_1</th>\n",
       "      <th>job_2</th>\n",
       "      <th>job_3</th>\n",
       "      <th>...</th>\n",
       "      <th>education_professional.course</th>\n",
       "      <th>education_basic.6y</th>\n",
       "      <th>education_unknown</th>\n",
       "      <th>education_illiterate</th>\n",
       "      <th>default_unknown</th>\n",
       "      <th>default_no</th>\n",
       "      <th>default_yes</th>\n",
       "      <th>poutcome_nonexistent</th>\n",
       "      <th>poutcome_failure</th>\n",
       "      <th>poutcome_success</th>\n",
       "    </tr>\n",
       "  </thead>\n",
       "  <tbody>\n",
       "    <tr>\n",
       "      <th>12556</th>\n",
       "      <td>1.0</td>\n",
       "      <td>999</td>\n",
       "      <td>0</td>\n",
       "      <td>93.918</td>\n",
       "      <td>1.0</td>\n",
       "      <td>5228.1</td>\n",
       "      <td>0</td>\n",
       "      <td>0</td>\n",
       "      <td>0</td>\n",
       "      <td>1</td>\n",
       "      <td>...</td>\n",
       "      <td>0</td>\n",
       "      <td>0</td>\n",
       "      <td>0</td>\n",
       "      <td>0</td>\n",
       "      <td>1</td>\n",
       "      <td>0</td>\n",
       "      <td>0</td>\n",
       "      <td>1</td>\n",
       "      <td>0</td>\n",
       "      <td>0</td>\n",
       "    </tr>\n",
       "    <tr>\n",
       "      <th>35451</th>\n",
       "      <td>0.0</td>\n",
       "      <td>999</td>\n",
       "      <td>0</td>\n",
       "      <td>92.893</td>\n",
       "      <td>0.0</td>\n",
       "      <td>5099.1</td>\n",
       "      <td>0</td>\n",
       "      <td>0</td>\n",
       "      <td>1</td>\n",
       "      <td>0</td>\n",
       "      <td>...</td>\n",
       "      <td>0</td>\n",
       "      <td>0</td>\n",
       "      <td>0</td>\n",
       "      <td>0</td>\n",
       "      <td>0</td>\n",
       "      <td>1</td>\n",
       "      <td>0</td>\n",
       "      <td>1</td>\n",
       "      <td>0</td>\n",
       "      <td>0</td>\n",
       "    </tr>\n",
       "    <tr>\n",
       "      <th>30592</th>\n",
       "      <td>2.0</td>\n",
       "      <td>999</td>\n",
       "      <td>1</td>\n",
       "      <td>92.893</td>\n",
       "      <td>0.0</td>\n",
       "      <td>5099.1</td>\n",
       "      <td>0</td>\n",
       "      <td>0</td>\n",
       "      <td>1</td>\n",
       "      <td>1</td>\n",
       "      <td>...</td>\n",
       "      <td>0</td>\n",
       "      <td>0</td>\n",
       "      <td>0</td>\n",
       "      <td>0</td>\n",
       "      <td>0</td>\n",
       "      <td>1</td>\n",
       "      <td>0</td>\n",
       "      <td>0</td>\n",
       "      <td>1</td>\n",
       "      <td>0</td>\n",
       "    </tr>\n",
       "    <tr>\n",
       "      <th>17914</th>\n",
       "      <td>1.0</td>\n",
       "      <td>999</td>\n",
       "      <td>0</td>\n",
       "      <td>93.918</td>\n",
       "      <td>1.0</td>\n",
       "      <td>5228.1</td>\n",
       "      <td>0</td>\n",
       "      <td>1</td>\n",
       "      <td>0</td>\n",
       "      <td>0</td>\n",
       "      <td>...</td>\n",
       "      <td>0</td>\n",
       "      <td>0</td>\n",
       "      <td>0</td>\n",
       "      <td>0</td>\n",
       "      <td>0</td>\n",
       "      <td>1</td>\n",
       "      <td>0</td>\n",
       "      <td>1</td>\n",
       "      <td>0</td>\n",
       "      <td>0</td>\n",
       "    </tr>\n",
       "    <tr>\n",
       "      <th>3315</th>\n",
       "      <td>1.0</td>\n",
       "      <td>999</td>\n",
       "      <td>0</td>\n",
       "      <td>93.994</td>\n",
       "      <td>2.0</td>\n",
       "      <td>5191.0</td>\n",
       "      <td>0</td>\n",
       "      <td>0</td>\n",
       "      <td>1</td>\n",
       "      <td>0</td>\n",
       "      <td>...</td>\n",
       "      <td>0</td>\n",
       "      <td>0</td>\n",
       "      <td>0</td>\n",
       "      <td>0</td>\n",
       "      <td>1</td>\n",
       "      <td>0</td>\n",
       "      <td>0</td>\n",
       "      <td>1</td>\n",
       "      <td>0</td>\n",
       "      <td>0</td>\n",
       "    </tr>\n",
       "  </tbody>\n",
       "</table>\n",
       "<p>5 rows × 28 columns</p>\n",
       "</div>"
      ],
      "text/plain": [
       "       age  pdays  previous  cons.price.idx  cons.conf.idx  nr.employed  \\\n",
       "12556  1.0    999         0          93.918            1.0       5228.1   \n",
       "35451  0.0    999         0          92.893            0.0       5099.1   \n",
       "30592  2.0    999         1          92.893            0.0       5099.1   \n",
       "17914  1.0    999         0          93.918            1.0       5228.1   \n",
       "3315   1.0    999         0          93.994            2.0       5191.0   \n",
       "\n",
       "       job_0  job_1  job_2  job_3  ...  education_professional.course  \\\n",
       "12556      0      0      0      1  ...                              0   \n",
       "35451      0      0      1      0  ...                              0   \n",
       "30592      0      0      1      1  ...                              0   \n",
       "17914      0      1      0      0  ...                              0   \n",
       "3315       0      0      1      0  ...                              0   \n",
       "\n",
       "       education_basic.6y  education_unknown  education_illiterate  \\\n",
       "12556                   0                  0                     0   \n",
       "35451                   0                  0                     0   \n",
       "30592                   0                  0                     0   \n",
       "17914                   0                  0                     0   \n",
       "3315                    0                  0                     0   \n",
       "\n",
       "       default_unknown  default_no  default_yes  poutcome_nonexistent  \\\n",
       "12556                1           0            0                     1   \n",
       "35451                0           1            0                     1   \n",
       "30592                0           1            0                     0   \n",
       "17914                0           1            0                     1   \n",
       "3315                 1           0            0                     1   \n",
       "\n",
       "       poutcome_failure  poutcome_success  \n",
       "12556                 0                 0  \n",
       "35451                 0                 0  \n",
       "30592                 1                 0  \n",
       "17914                 0                 0  \n",
       "3315                  0                 0  \n",
       "\n",
       "[5 rows x 28 columns]"
      ]
     },
     "execution_count": 74,
     "metadata": {},
     "output_type": "execute_result"
    }
   ],
   "source": [
    "# Dataset final \n",
    "\n",
    "X_train.head()"
   ]
  },
  {
   "cell_type": "markdown",
   "metadata": {
    "tags": []
   },
   "source": [
    "# 4. Which algorithm led to the best results?"
   ]
  },
  {
   "cell_type": "markdown",
   "metadata": {},
   "source": [
    "Since our problem is a classification problem, let's test the models:\n",
    "- Logistic Regression\n",
    "- Decision Trees\n",
    "- Random Forest\n",
    "\n",
    "In this project, we will not use the Neural Network and SVM models, as they are very complex models, intended for datasets and problems that are also complex. For example, SVM is widely used for problems such as *\"handwriting recognition, intrusion detection, face detection, email classification, gene classification, and in web pages\"*, and Neural Networks for *\"Image and video data, Natural language processing data, Time-series data, Audio data, Graph and network data*. With this, I intend to show how complex and powerful these two models are, too powerful for our problem. As some professors mentioned during the course \"a cannon to kill an ant \", so I decided not to use them for this model, sticking with the simplest and most traditional models.\n",
    "\n",
    "KNN also decided not to use it, because it is a more suitable model for smaller datasets than the one we are working with, as it is a *slow learner* (it does not need to be trained). Why is KNN a **slow learner**? Because the algorithm calculates the Euclidean distance between the test point and all training points, stores the distances in a list and sorts, chooses the first k points and finally assigns the class to the test point based on the majority of the present class. For this reason, we will not use it in this project."
   ]
  },
  {
   "cell_type": "markdown",
   "metadata": {
    "tags": []
   },
   "source": [
    "### a) Normalization"
   ]
  },
  {
   "cell_type": "markdown",
   "metadata": {},
   "source": [
    "Let's create a new normalized dataset, because we're going to test some models that don't need a normalized dataset, as is the case of the Random Forest."
   ]
  },
  {
   "cell_type": "code",
   "execution_count": 75,
   "metadata": {},
   "outputs": [],
   "source": [
    "scaler = MinMaxScaler()\n",
    "\n",
    "features_names = X_train.columns\n",
    "\n",
    "X_train_scaler = scaler.fit_transform(X_train)\n",
    "X_train_scaler = pd.DataFrame(X_train, columns = features_names)\n",
    "\n",
    "X_test_scaler = scaler.transform(X_test)\n",
    "X_test_scaler = pd.DataFrame(X_test, columns = features_names)"
   ]
  },
  {
   "cell_type": "markdown",
   "metadata": {
    "tags": []
   },
   "source": [
    "### b) Total Cost Function"
   ]
  },
  {
   "cell_type": "markdown",
   "metadata": {},
   "source": [
    "$$totalCost = 500∗FP+2000∗FN$$"
   ]
  },
  {
   "cell_type": "markdown",
   "metadata": {},
   "source": [
    "### c) Baseline"
   ]
  },
  {
   "cell_type": "markdown",
   "metadata": {},
   "source": [
    "Here we will calculate the baseline, that is, the cost we have without any model."
   ]
  },
  {
   "cell_type": "code",
   "execution_count": 76,
   "metadata": {},
   "outputs": [],
   "source": [
    "y_preds_all_bad = np.ones(y_test.shape) "
   ]
  },
  {
   "cell_type": "code",
   "execution_count": 77,
   "metadata": {},
   "outputs": [
    {
     "name": "stdout",
     "output_type": "stream",
     "text": [
      "Number of True Negatives: 0\n",
      "Number of True Positives: 935\n",
      "Number of False Negatives: 0\n",
      "Number of False Positives: 7303\n"
     ]
    }
   ],
   "source": [
    "tn, fp, fn, tp = confusion_matrix(y_test, y_preds_all_bad).ravel()\n",
    "\n",
    "print('Number of True Negatives:', tn)\n",
    "print('Number of True Positives:', tp)\n",
    "print('Number of False Negatives:', fn)\n",
    "print('Number of False Positives:', fp)"
   ]
  },
  {
   "cell_type": "code",
   "execution_count": 78,
   "metadata": {},
   "outputs": [
    {
     "name": "stdout",
     "output_type": "stream",
     "text": [
      "Total Cost: 6828305\n"
     ]
    }
   ],
   "source": [
    "print('Total Cost:', fp*935)"
   ]
  },
  {
   "cell_type": "code",
   "execution_count": 79,
   "metadata": {},
   "outputs": [
    {
     "data": {
      "text/plain": [
       "0.11349842194707453"
      ]
     },
     "execution_count": 79,
     "metadata": {},
     "output_type": "execute_result"
    }
   ],
   "source": [
    "accuracy_score(y_test, y_preds_all_bad)"
   ]
  },
  {
   "cell_type": "markdown",
   "metadata": {},
   "source": [
    "> If all customers were **bad candidates** (they didn't sign up for term credit), the bank would have a cost of **6 828 305 EUR**."
   ]
  },
  {
   "cell_type": "code",
   "execution_count": 80,
   "metadata": {},
   "outputs": [
    {
     "name": "stdout",
     "output_type": "stream",
     "text": [
      "Number of True Negatives: 7303\n",
      "Number of True Positives: 0\n",
      "Number of False Negatives: 935\n",
      "Number of False Positives: 0\n"
     ]
    }
   ],
   "source": [
    "y_preds_all_good = np.zeros(y_test.shape) \n",
    "\n",
    "tn, fp, fn, tp = confusion_matrix(y_test, y_preds_all_good).ravel()\n",
    "\n",
    "print('Number of True Negatives:', tn)\n",
    "print('Number of True Positives:', tp)\n",
    "print('Number of False Negatives:', fn)\n",
    "print('Number of False Positives:', fp)"
   ]
  },
  {
   "cell_type": "code",
   "execution_count": 81,
   "metadata": {},
   "outputs": [
    {
     "name": "stdout",
     "output_type": "stream",
     "text": [
      "Total Cost: 2805000\n"
     ]
    }
   ],
   "source": [
    "print('Total Cost:', fn*3000)"
   ]
  },
  {
   "cell_type": "markdown",
   "metadata": {},
   "source": [
    "> If all customers were **good candidates** (subscribed to term credit), the bank would have a cost of **2 805 000 EUR** - our baseline."
   ]
  },
  {
   "cell_type": "markdown",
   "metadata": {},
   "source": [
    "### d) Evaluation Metric"
   ]
  },
  {
   "cell_type": "code",
   "execution_count": 82,
   "metadata": {},
   "outputs": [],
   "source": [
    "def total_cost(y_test, y_preds, threshold = 0.5):\n",
    "    \n",
    "    tn, fp, fn, tp = confusion_matrix(y_test == 1, y_preds > threshold).ravel()\n",
    "    \n",
    "    cost_fn = fn*2000\n",
    "    cost_fp = fp*500\n",
    "    \n",
    "    return cost_fn + cost_fp"
   ]
  },
  {
   "cell_type": "code",
   "execution_count": 83,
   "metadata": {},
   "outputs": [],
   "source": [
    "def min_cost_threshold(y_test, y_preds, x_limits=None):\n",
    "    \n",
    "    costs = {}\n",
    "    \n",
    "    for threshold in np.arange(0, 1.1, 0.1):\n",
    "        \n",
    "        costs[round(threshold, 1)] = total_cost(y_test, y_preds, threshold = threshold)\n",
    "        \n",
    "    plt.plot(list(costs.keys()), list(costs.values()))\n",
    "    plt.ylabel('Cost')\n",
    "    plt.xlabel('Threshold')\n",
    "    \n",
    "    if x_limits:\n",
    "        plt.xlim(x_limits)\n",
    "        \n",
    "    plt.show()"
   ]
  },
  {
   "cell_type": "markdown",
   "metadata": {
    "tags": []
   },
   "source": [
    "### e) Target distribution"
   ]
  },
  {
   "cell_type": "code",
   "execution_count": 84,
   "metadata": {},
   "outputs": [
    {
     "data": {
      "text/plain": [
       "<AxesSubplot:>"
      ]
     },
     "execution_count": 84,
     "metadata": {},
     "output_type": "execute_result"
    },
    {
     "data": {
      "image/png": "[encoded data removed]",
      "text/plain": [
       "<Figure size 640x480 with 1 Axes>"
      ]
     },
     "metadata": {},
     "output_type": "display_data"
    }
   ],
   "source": [
    "y_train.value_counts().plot(kind='bar')"
   ]
  },
  {
   "cell_type": "markdown",
   "metadata": {},
   "source": [
    "We have an unbalanced target variable. This information is important for the choice of metrics for model evaluation."
   ]
  },
  {
   "cell_type": "markdown",
   "metadata": {},
   "source": [
    "## 4.1. Logistic Regression"
   ]
  },
  {
   "cell_type": "code",
   "execution_count": 85,
   "metadata": {},
   "outputs": [
    {
     "name": "stdout",
     "output_type": "stream",
     "text": [
      "CPU times: user 18.6 s, sys: 4.17 s, total: 22.8 s\n",
      "Wall time: 3.16 s\n"
     ]
    }
   ],
   "source": [
    "%%time\n",
    "lr = LogisticRegression(max_iter = 500, solver = 'lbfgs', random_state = seed, class_weight = 'balanced' )\n",
    "\n",
    "parameters = {'C':[0.001, 0.01, 0.1, 1, 10, 100]}\n",
    "\n",
    "clf_lr = GridSearchCV(lr, parameters, cv = 5).fit(X_train, y_train)"
   ]
  },
  {
   "cell_type": "code",
   "execution_count": 86,
   "metadata": {},
   "outputs": [
    {
     "data": {
      "text/plain": [
       "0.8067492109735372"
      ]
     },
     "execution_count": 86,
     "metadata": {},
     "output_type": "execute_result"
    }
   ],
   "source": [
    "# mean accuracy\n",
    "\n",
    "clf_lr.score(X_test, y_test)"
   ]
  },
  {
   "cell_type": "code",
   "execution_count": 87,
   "metadata": {},
   "outputs": [],
   "source": [
    "y_preds = clf_lr.predict_proba(X_test)[:,1]"
   ]
  },
  {
   "cell_type": "code",
   "execution_count": 88,
   "metadata": {},
   "outputs": [
    {
     "name": "stdout",
     "output_type": "stream",
     "text": [
      "auc: 0.74823561630595\n"
     ]
    }
   ],
   "source": [
    "#AUC\n",
    "\n",
    "print('auc:', roc_auc_score(y_test, y_preds))"
   ]
  },
  {
   "cell_type": "code",
   "execution_count": 89,
   "metadata": {},
   "outputs": [
    {
     "data": {
      "image/png": "[encoded data removed]",
      "text/plain": [
       "<Figure size 640x480 with 1 Axes>"
      ]
     },
     "metadata": {},
     "output_type": "display_data"
    }
   ],
   "source": [
    "min_cost_threshold(y_test, y_preds, x_limits=([0.2,0.8]))"
   ]
  },
  {
   "cell_type": "code",
   "execution_count": 90,
   "metadata": {},
   "outputs": [
    {
     "name": "stdout",
     "output_type": "stream",
     "text": [
      "Total Cost: 1382500 EUR\n"
     ]
    }
   ],
   "source": [
    "print('Total Cost:', total_cost(y_test, y_preds, threshold = 0.5), 'EUR')"
   ]
  },
  {
   "cell_type": "markdown",
   "metadata": {},
   "source": [
    "> With the **Logistic Regression** model the minimum cost for a threshold of 0.5 is **1 382 500 EUR** (AUC-score of 0.7482), which is better than our baseline.  \n",
    "\n",
    "> **Note:** I tried both normalized and non-normalized datasets and got the same result every time. "
   ]
  },
  {
   "cell_type": "markdown",
   "metadata": {},
   "source": [
    "## 4.2. Decision Trees"
   ]
  },
  {
   "cell_type": "code",
   "execution_count": 91,
   "metadata": {},
   "outputs": [
    {
     "name": "stdout",
     "output_type": "stream",
     "text": [
      "CPU times: user 1.21 s, sys: 169 ms, total: 1.38 s\n",
      "Wall time: 780 ms\n"
     ]
    }
   ],
   "source": [
    "%%time\n",
    "\n",
    "trees = tree.DecisionTreeClassifier(random_state = seed,  class_weight = 'balanced')\n",
    "\n",
    "parameters = {'max_depth':[3, 6], 'min_samples_split': [2, 4, 10]}\n",
    "\n",
    "clf_tree = GridSearchCV(trees, parameters, cv = 5).fit(X_train, y_train)"
   ]
  },
  {
   "cell_type": "code",
   "execution_count": 92,
   "metadata": {},
   "outputs": [
    {
     "data": {
      "text/plain": [
       "DecisionTreeClassifier(class_weight='balanced', max_depth=6, random_state=42)"
      ]
     },
     "execution_count": 92,
     "metadata": {},
     "output_type": "execute_result"
    }
   ],
   "source": [
    "clf_tree.best_estimator_"
   ]
  },
  {
   "cell_type": "code",
   "execution_count": 93,
   "metadata": {},
   "outputs": [
    {
     "data": {
      "text/plain": [
       "0.8466860888565185"
      ]
     },
     "execution_count": 93,
     "metadata": {},
     "output_type": "execute_result"
    }
   ],
   "source": [
    "y_preds = clf_tree.predict_proba(X_test)[:,1]\n",
    "\n",
    "clf_tree.score(X_test, y_test)"
   ]
  },
  {
   "cell_type": "code",
   "execution_count": 94,
   "metadata": {},
   "outputs": [
    {
     "name": "stdout",
     "output_type": "stream",
     "text": [
      "auc: 0.7745903265891023\n"
     ]
    }
   ],
   "source": [
    "# AUC\n",
    "\n",
    "print('auc:', roc_auc_score(y_test, y_preds))"
   ]
  },
  {
   "cell_type": "code",
   "execution_count": 95,
   "metadata": {},
   "outputs": [
    {
     "data": {
      "image/png": "[encoded data removed]",
      "text/plain": [
       "<Figure size 640x480 with 1 Axes>"
      ]
     },
     "metadata": {},
     "output_type": "display_data"
    }
   ],
   "source": [
    "min_cost_threshold(y_test, y_preds, x_limits=([0.2,0.8]))"
   ]
  },
  {
   "cell_type": "code",
   "execution_count": 96,
   "metadata": {},
   "outputs": [
    {
     "name": "stdout",
     "output_type": "stream",
     "text": [
      "Total Cost: 1234500 EUR\n"
     ]
    }
   ],
   "source": [
    "print('Total Cost:', total_cost(y_test, y_preds, threshold = 0.5), 'EUR')"
   ]
  },
  {
   "cell_type": "markdown",
   "metadata": {},
   "source": [
    "> With the **Decision Tree** model the minimum cost for a threshold of 0.5 is **1 234 500 EUR** (AUC-score of 0.7745), which is better than our baseline, and the Logistic Regression model ."
   ]
  },
  {
   "cell_type": "markdown",
   "metadata": {},
   "source": [
    "## 4.3. Random Forests"
   ]
  },
  {
   "cell_type": "code",
   "execution_count": 97,
   "metadata": {},
   "outputs": [
    {
     "name": "stdout",
     "output_type": "stream",
     "text": [
      "CPU times: user 1min 26s, sys: 902 ms, total: 1min 27s\n",
      "Wall time: 1min 27s\n"
     ]
    }
   ],
   "source": [
    "%%time \n",
    "rf = RandomForestClassifier(random_state = seed,  class_weight = 'balanced').fit(X_train, y_train)\n",
    "\n",
    "parameters = {'n_estimators':[10, 100, 300, 1000]}\n",
    "\n",
    "clf_rf = GridSearchCV(rf, parameters, cv = 5).fit(X_train, y_train)"
   ]
  },
  {
   "cell_type": "code",
   "execution_count": 98,
   "metadata": {},
   "outputs": [
    {
     "data": {
      "text/plain": [
       "0.8316338917212915"
      ]
     },
     "execution_count": 98,
     "metadata": {},
     "output_type": "execute_result"
    }
   ],
   "source": [
    "y_preds = clf_rf.predict_proba(X_test)[:,1]\n",
    "\n",
    "clf_rf.score(X_test, y_test)"
   ]
  },
  {
   "cell_type": "code",
   "execution_count": 99,
   "metadata": {},
   "outputs": [
    {
     "name": "stdout",
     "output_type": "stream",
     "text": [
      "auc: 0.6881781056938727\n"
     ]
    }
   ],
   "source": [
    "#AUC\n",
    "\n",
    "print('auc:', roc_auc_score(y_test, y_preds))"
   ]
  },
  {
   "cell_type": "code",
   "execution_count": 100,
   "metadata": {},
   "outputs": [
    {
     "data": {
      "image/png": "[encoded data removed]",
      "text/plain": [
       "<Figure size 640x480 with 1 Axes>"
      ]
     },
     "metadata": {},
     "output_type": "display_data"
    }
   ],
   "source": [
    "min_cost_threshold(y_test, y_preds, x_limits=([0.2,0.8]))"
   ]
  },
  {
   "cell_type": "code",
   "execution_count": 101,
   "metadata": {},
   "outputs": [
    {
     "name": "stdout",
     "output_type": "stream",
     "text": [
      "Total Cost: 1487000 EUR\n"
     ]
    }
   ],
   "source": [
    "print('Total Cost:', total_cost(y_test, y_preds, threshold = 0.5), 'EUR')"
   ]
  },
  {
   "cell_type": "markdown",
   "metadata": {},
   "source": [
    "> With the **Random Forests** model the minimum cost for a threshold of 0.5 is **1 487 000** (AUC-score: 0.6881), which is better than our baseline, however, worse than the Logistic Regression and Decision Tree models. The **Decision Tree** model was the model that led to the best result, with a **total cost of 1 238 500 EUR** and an **AUC-score of 0.7482** (best total cost, and best AUC- score)."
   ]
  },
  {
   "cell_type": "markdown",
   "metadata": {},
   "source": [
    "### 4.3.1. Feature Importance"
   ]
  },
  {
   "cell_type": "markdown",
   "metadata": {},
   "source": [
    "Vamos verificar quais as variáveis mais relevantes para avaliar se o cliente tem propensão para ser um bom candidato à campanha de marketing. "
   ]
  },
  {
   "cell_type": "code",
   "execution_count": 102,
   "metadata": {},
   "outputs": [],
   "source": [
    "importances = clf_tree.best_estimator_.feature_importances_"
   ]
  },
  {
   "cell_type": "code",
   "execution_count": 103,
   "metadata": {},
   "outputs": [
    {
     "data": {
      "text/html": [
       "<div>\n",
       "<style scoped>\n",
       "    .dataframe tbody tr th:only-of-type {\n",
       "        vertical-align: middle;\n",
       "    }\n",
       "\n",
       "    .dataframe tbody tr th {\n",
       "        vertical-align: top;\n",
       "    }\n",
       "\n",
       "    .dataframe thead th {\n",
       "        text-align: right;\n",
       "    }\n",
       "</style>\n",
       "<table border=\"1\" class=\"dataframe\">\n",
       "  <thead>\n",
       "    <tr style=\"text-align: right;\">\n",
       "      <th></th>\n",
       "      <th>feature</th>\n",
       "      <th>importance</th>\n",
       "    </tr>\n",
       "  </thead>\n",
       "  <tbody>\n",
       "    <tr>\n",
       "      <th>5</th>\n",
       "      <td>nr.employed</td>\n",
       "      <td>0.820662</td>\n",
       "    </tr>\n",
       "    <tr>\n",
       "      <th>3</th>\n",
       "      <td>cons.price.idx</td>\n",
       "      <td>0.102657</td>\n",
       "    </tr>\n",
       "    <tr>\n",
       "      <th>1</th>\n",
       "      <td>pdays</td>\n",
       "      <td>0.031615</td>\n",
       "    </tr>\n",
       "    <tr>\n",
       "      <th>23</th>\n",
       "      <td>default_no</td>\n",
       "      <td>0.011455</td>\n",
       "    </tr>\n",
       "    <tr>\n",
       "      <th>26</th>\n",
       "      <td>poutcome_failure</td>\n",
       "      <td>0.008947</td>\n",
       "    </tr>\n",
       "    <tr>\n",
       "      <th>9</th>\n",
       "      <td>job_3</td>\n",
       "      <td>0.004096</td>\n",
       "    </tr>\n",
       "    <tr>\n",
       "      <th>2</th>\n",
       "      <td>previous</td>\n",
       "      <td>0.003733</td>\n",
       "    </tr>\n",
       "    <tr>\n",
       "      <th>0</th>\n",
       "      <td>age</td>\n",
       "      <td>0.003640</td>\n",
       "    </tr>\n",
       "    <tr>\n",
       "      <th>16</th>\n",
       "      <td>education_basic.4y</td>\n",
       "      <td>0.002723</td>\n",
       "    </tr>\n",
       "    <tr>\n",
       "      <th>15</th>\n",
       "      <td>education_university.degree</td>\n",
       "      <td>0.002377</td>\n",
       "    </tr>\n",
       "    <tr>\n",
       "      <th>19</th>\n",
       "      <td>education_basic.6y</td>\n",
       "      <td>0.001438</td>\n",
       "    </tr>\n",
       "    <tr>\n",
       "      <th>7</th>\n",
       "      <td>job_1</td>\n",
       "      <td>0.001284</td>\n",
       "    </tr>\n",
       "    <tr>\n",
       "      <th>12</th>\n",
       "      <td>marital_single</td>\n",
       "      <td>0.001239</td>\n",
       "    </tr>\n",
       "    <tr>\n",
       "      <th>13</th>\n",
       "      <td>marital_unknown</td>\n",
       "      <td>0.000975</td>\n",
       "    </tr>\n",
       "    <tr>\n",
       "      <th>18</th>\n",
       "      <td>education_professional.course</td>\n",
       "      <td>0.000702</td>\n",
       "    </tr>\n",
       "    <tr>\n",
       "      <th>11</th>\n",
       "      <td>marital_divorced</td>\n",
       "      <td>0.000696</td>\n",
       "    </tr>\n",
       "    <tr>\n",
       "      <th>22</th>\n",
       "      <td>default_unknown</td>\n",
       "      <td>0.000540</td>\n",
       "    </tr>\n",
       "    <tr>\n",
       "      <th>8</th>\n",
       "      <td>job_2</td>\n",
       "      <td>0.000477</td>\n",
       "    </tr>\n",
       "    <tr>\n",
       "      <th>14</th>\n",
       "      <td>education_basic.9y</td>\n",
       "      <td>0.000214</td>\n",
       "    </tr>\n",
       "    <tr>\n",
       "      <th>27</th>\n",
       "      <td>poutcome_success</td>\n",
       "      <td>0.000193</td>\n",
       "    </tr>\n",
       "    <tr>\n",
       "      <th>4</th>\n",
       "      <td>cons.conf.idx</td>\n",
       "      <td>0.000172</td>\n",
       "    </tr>\n",
       "    <tr>\n",
       "      <th>25</th>\n",
       "      <td>poutcome_nonexistent</td>\n",
       "      <td>0.000164</td>\n",
       "    </tr>\n",
       "    <tr>\n",
       "      <th>17</th>\n",
       "      <td>education_high.school</td>\n",
       "      <td>0.000000</td>\n",
       "    </tr>\n",
       "    <tr>\n",
       "      <th>20</th>\n",
       "      <td>education_unknown</td>\n",
       "      <td>0.000000</td>\n",
       "    </tr>\n",
       "    <tr>\n",
       "      <th>21</th>\n",
       "      <td>education_illiterate</td>\n",
       "      <td>0.000000</td>\n",
       "    </tr>\n",
       "    <tr>\n",
       "      <th>10</th>\n",
       "      <td>marital_married</td>\n",
       "      <td>0.000000</td>\n",
       "    </tr>\n",
       "    <tr>\n",
       "      <th>6</th>\n",
       "      <td>job_0</td>\n",
       "      <td>0.000000</td>\n",
       "    </tr>\n",
       "    <tr>\n",
       "      <th>24</th>\n",
       "      <td>default_yes</td>\n",
       "      <td>0.000000</td>\n",
       "    </tr>\n",
       "  </tbody>\n",
       "</table>\n",
       "</div>"
      ],
      "text/plain": [
       "                          feature  importance\n",
       "5                     nr.employed    0.820662\n",
       "3                  cons.price.idx    0.102657\n",
       "1                           pdays    0.031615\n",
       "23                     default_no    0.011455\n",
       "26               poutcome_failure    0.008947\n",
       "9                           job_3    0.004096\n",
       "2                        previous    0.003733\n",
       "0                             age    0.003640\n",
       "16             education_basic.4y    0.002723\n",
       "15    education_university.degree    0.002377\n",
       "19             education_basic.6y    0.001438\n",
       "7                           job_1    0.001284\n",
       "12                 marital_single    0.001239\n",
       "13                marital_unknown    0.000975\n",
       "18  education_professional.course    0.000702\n",
       "11               marital_divorced    0.000696\n",
       "22                default_unknown    0.000540\n",
       "8                           job_2    0.000477\n",
       "14             education_basic.9y    0.000214\n",
       "27               poutcome_success    0.000193\n",
       "4                   cons.conf.idx    0.000172\n",
       "25           poutcome_nonexistent    0.000164\n",
       "17          education_high.school    0.000000\n",
       "20              education_unknown    0.000000\n",
       "21           education_illiterate    0.000000\n",
       "10                marital_married    0.000000\n",
       "6                           job_0    0.000000\n",
       "24                    default_yes    0.000000"
      ]
     },
     "execution_count": 103,
     "metadata": {},
     "output_type": "execute_result"
    }
   ],
   "source": [
    "# Feature importances\n",
    "\n",
    "feature_importances = pd.DataFrame({'feature': X_train.columns, 'importance': importances})\n",
    "feature_importances = feature_importances.sort_values(by='importance', ascending=False)\n",
    "feature_importances\n",
    "\n"
   ]
  },
  {
   "cell_type": "code",
   "execution_count": 104,
   "metadata": {},
   "outputs": [
    {
     "data": {
      "image/png": "[encoded data removed]",
      "text/plain": [
       "<Figure size 1200x800 with 1 Axes>"
      ]
     },
     "metadata": {},
     "output_type": "display_data"
    }
   ],
   "source": [
    "# Para melhor visualizarmos os nossos dados \n",
    "\n",
    "plt.figure(figsize=(12, 8))\n",
    "plt.title('Feature Importances')\n",
    "sns.barplot(x='importance', y='feature', data=feature_importances, palette='viridis')\n",
    "\n",
    "plt.show()"
   ]
  },
  {
   "cell_type": "markdown",
   "metadata": {},
   "source": [
    "As we can see above, the variable with a significant impact on the target variable, and therefore more relevant to decide whether or not the customer is a good candidate for the marketing campaign is (with a significant difference from the other variables) the variable `nr. employed`, followed by the variables `cons.price.idx` and `pdays`.\n",
    "\n",
    "- The variable `nr.employed` refers to the number of employees in a given economy/sector and is usually measured as a quarterly indicator. This variable is an indicator of the level of employment in a given economy/sector.\n",
    "\n",
    "- The `cons.price.idx` variable refers to the consumer price index (CPI). It is a monthly indicator that measures changes in the prices of a basket of goods and services consumed by households in a given country or region. The CPI is a key indicator that provides information about the level of inflation and deflation in an economy, as well as consumer purchasing power.\n",
    "\n",
    "- The `pdays` variable refers to the number of days that have passed since the customer was last contacted for a previous marketing campaign."
   ]
  },
  {
   "cell_type": "markdown",
   "metadata": {
    "tags": []
   },
   "source": [
    "# 5. Which/What evaluation metrics did you use to compare the performance of the various models? Why?"
   ]
  },
  {
   "cell_type": "markdown",
   "metadata": {},
   "source": [
    "As our target variable is unbalanced, the most indicated metric to be used would be the AUC. However, the objective of the work is to find out which model makes the best prediction so that the cost for the Awesome Bank is as low as possible, so for that we used the **Total Cost**.\n",
    "\n",
    "However, it is also the **Decision Tree model that has the highest AUC-score**."
   ]
  },
  {
   "cell_type": "markdown",
   "metadata": {
    "tags": []
   },
   "source": [
    "# 6. What is the cost that the bank has without any model?"
   ]
  },
  {
   "cell_type": "markdown",
   "metadata": {},
   "source": [
    "Without any model, the Awesome Bank would have a cost of **2 805 000 EUR** (if all customers were bad candidates)."
   ]
  },
  {
   "cell_type": "markdown",
   "metadata": {
    "tags": []
   },
   "source": [
    "# 7. What is the cost that the bank will have with your model?"
   ]
  },
  {
   "cell_type": "markdown",
   "metadata": {},
   "source": [
    "With our model, the Awesome Bank has a total cost of **1 234 500 EUR**."
   ]
  },
  {
   "cell_type": "markdown",
   "metadata": {
    "tags": []
   },
   "source": [
    " # 8. Final considerations"
   ]
  },
  {
   "cell_type": "markdown",
   "metadata": {},
   "source": [
    "- We applied a normalized dataset to this model, even knowing that the models used as a rule are not used with normalized datasets, but just out of curiosity I applied a normalized dataset, obtaining the same result normalizing our dataset.\n",
    "\n",
    "- The Decision Tree and Random Forest models have a better performance without outliers (with the outliers treated) regarding the **Total Cost**, however the Logistic Regression model has a worse performance. As far as **AUC_score** is concerned, the Decision Tree model performs better without outliers than with outliers, but on the contrary the Logistic Regression and Random Forest models perform worse without outliers. \n",
    "\n",
    "- It is interesting that Random forest has a better total cost without outliers, however worse performance in terms of AUC-score.\n",
    "\n",
    "- It is also quite interesting that the importance of the variables also changes, with the treatment of the variables. Both the order and the weight. Here we also tried not to handle the outliers of the `cons.conf.idx` variable, but we didn't get a better result.\n",
    "\n",
    "**With outerers:**\n",
    "- **Logistic Regression:** Total Cost: 1 329 000 EUR | AUC-score: 0.7527\n",
    "- **Decision Tree:** Total cost: 1 238 500 EUR | AUC-score: 0.7716\n",
    "- **Random Forests:** Total Cost: 1 526 500 EUR | AUC-score: 0.7158\n",
    "\n",
    "**No outfitters:**\n",
    "- **Logistic Regression:** Total Cost: 1 382 500 EUR | AUC-score: 0.7482\n",
    "- **Decision Tree:** Total cost: 1 234 500 EUR | AUC-score: 0.7745\n",
    "- **Random Forests:** Total Cost: 1 487 000 EUR | AUC-score: 0.6881\n",
    "\n",
    "\n",
    "\n",
    "- In like manner, it would be more appropriate to apply ordinal encoding to the variable `education`, however by applying One-hot-encoding the tree models have a better performance.\n",
    "\n",
    "`education` **- Ordinal Encoding:**\n",
    "- **Logistic Regression:** Total Cost: 1 396 500 EUR | AUC-score: 0.7516\n",
    "- **Decision Tree:** Total cost: 1 236 500 EUR | AUC-score: 0.7735\n",
    "- **Random Forests:** Total Cost: 1 491 500 EUR | AUC-score: 0.6872\n",
    "\n",
    "We used the dataset without outliers, or with the outliers treated, because it was the one that gave us the best result."
   ]
  },
  {
   "cell_type": "code",
   "execution_count": null,
   "metadata": {},
   "outputs": [],
   "source": []
  }
 ],
 "metadata": {
  "colab": {
   "name": "final_project.ipynb",
   "provenance": []
  },
  "kernelspec": {
   "display_name": "Python 3 (ipykernel)",
   "language": "python",
   "name": "python3"
  },
  "language_info": {
   "codemirror_mode": {
    "name": "ipython",
    "version": 3
   },
   "file_extension": ".py",
   "mimetype": "text/x-python",
   "name": "python",
   "nbconvert_exporter": "python",
   "pygments_lexer": "ipython3",
   "version": "3.9.13"
  }
 },
 "nbformat": 4,
 "nbformat_minor": 4
}
